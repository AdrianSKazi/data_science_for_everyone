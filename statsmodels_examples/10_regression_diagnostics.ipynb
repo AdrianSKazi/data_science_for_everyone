{
 "cells": [
  {
   "cell_type": "markdown",
   "metadata": {},
   "source": [
    "# Regression Diagnostics"
   ]
  },
  {
   "cell_type": "code",
   "execution_count": 2,
   "metadata": {},
   "outputs": [],
   "source": [
    "import statsmodels.api as sm\n",
    "from statsmodels.compat import lzip\n",
    "import statsmodels.formula.api as smf\n",
    "import statsmodels.stats.api as sms\n",
    "\n",
    "import pandas as pd\n",
    "import numpy as np\n",
    "import matplotlib.pyplot as plt\n",
    "\n",
    "%matplotlib inline"
   ]
  },
  {
   "cell_type": "code",
   "execution_count": 4,
   "metadata": {},
   "outputs": [],
   "source": [
    "df = sm.datasets.get_rdataset(\"Guerry\", \"HistData\").data"
   ]
  },
  {
   "cell_type": "code",
   "execution_count": 8,
   "metadata": {},
   "outputs": [],
   "source": [
    "res = smf.ols(\"Lottery~Literacy + np.log(Pop1831)\", data=df).fit()"
   ]
  },
  {
   "cell_type": "code",
   "execution_count": 9,
   "metadata": {},
   "outputs": [
    {
     "data": {
      "text/html": [
       "<table class=\"simpletable\">\n",
       "<caption>OLS Regression Results</caption>\n",
       "<tr>\n",
       "  <th>Dep. Variable:</th>         <td>Lottery</td>     <th>  R-squared:         </th> <td>   0.348</td>\n",
       "</tr>\n",
       "<tr>\n",
       "  <th>Model:</th>                   <td>OLS</td>       <th>  Adj. R-squared:    </th> <td>   0.333</td>\n",
       "</tr>\n",
       "<tr>\n",
       "  <th>Method:</th>             <td>Least Squares</td>  <th>  F-statistic:       </th> <td>   22.20</td>\n",
       "</tr>\n",
       "<tr>\n",
       "  <th>Date:</th>             <td>Sat, 28 Aug 2021</td> <th>  Prob (F-statistic):</th> <td>1.90e-08</td>\n",
       "</tr>\n",
       "<tr>\n",
       "  <th>Time:</th>                 <td>14:07:06</td>     <th>  Log-Likelihood:    </th> <td> -379.82</td>\n",
       "</tr>\n",
       "<tr>\n",
       "  <th>No. Observations:</th>      <td>    86</td>      <th>  AIC:               </th> <td>   765.6</td>\n",
       "</tr>\n",
       "<tr>\n",
       "  <th>Df Residuals:</th>          <td>    83</td>      <th>  BIC:               </th> <td>   773.0</td>\n",
       "</tr>\n",
       "<tr>\n",
       "  <th>Df Model:</th>              <td>     2</td>      <th>                     </th>     <td> </td>   \n",
       "</tr>\n",
       "<tr>\n",
       "  <th>Covariance Type:</th>      <td>nonrobust</td>    <th>                     </th>     <td> </td>   \n",
       "</tr>\n",
       "</table>\n",
       "<table class=\"simpletable\">\n",
       "<tr>\n",
       "         <td></td>            <th>coef</th>     <th>std err</th>      <th>t</th>      <th>P>|t|</th>  <th>[0.025</th>    <th>0.975]</th>  \n",
       "</tr>\n",
       "<tr>\n",
       "  <th>Intercept</th>       <td>  246.4341</td> <td>   35.233</td> <td>    6.995</td> <td> 0.000</td> <td>  176.358</td> <td>  316.510</td>\n",
       "</tr>\n",
       "<tr>\n",
       "  <th>Literacy</th>        <td>   -0.4889</td> <td>    0.128</td> <td>   -3.832</td> <td> 0.000</td> <td>   -0.743</td> <td>   -0.235</td>\n",
       "</tr>\n",
       "<tr>\n",
       "  <th>np.log(Pop1831)</th> <td>  -31.3114</td> <td>    5.977</td> <td>   -5.239</td> <td> 0.000</td> <td>  -43.199</td> <td>  -19.424</td>\n",
       "</tr>\n",
       "</table>\n",
       "<table class=\"simpletable\">\n",
       "<tr>\n",
       "  <th>Omnibus:</th>       <td> 3.713</td> <th>  Durbin-Watson:     </th> <td>   2.019</td>\n",
       "</tr>\n",
       "<tr>\n",
       "  <th>Prob(Omnibus):</th> <td> 0.156</td> <th>  Jarque-Bera (JB):  </th> <td>   3.394</td>\n",
       "</tr>\n",
       "<tr>\n",
       "  <th>Skew:</th>          <td>-0.487</td> <th>  Prob(JB):          </th> <td>   0.183</td>\n",
       "</tr>\n",
       "<tr>\n",
       "  <th>Kurtosis:</th>      <td> 3.003</td> <th>  Cond. No.          </th> <td>    702.</td>\n",
       "</tr>\n",
       "</table><br/><br/>Notes:<br/>[1] Standard Errors assume that the covariance matrix of the errors is correctly specified."
      ],
      "text/plain": [
       "<class 'statsmodels.iolib.summary.Summary'>\n",
       "\"\"\"\n",
       "                            OLS Regression Results                            \n",
       "==============================================================================\n",
       "Dep. Variable:                Lottery   R-squared:                       0.348\n",
       "Model:                            OLS   Adj. R-squared:                  0.333\n",
       "Method:                 Least Squares   F-statistic:                     22.20\n",
       "Date:                Sat, 28 Aug 2021   Prob (F-statistic):           1.90e-08\n",
       "Time:                        14:07:06   Log-Likelihood:                -379.82\n",
       "No. Observations:                  86   AIC:                             765.6\n",
       "Df Residuals:                      83   BIC:                             773.0\n",
       "Df Model:                           2                                         \n",
       "Covariance Type:            nonrobust                                         \n",
       "===================================================================================\n",
       "                      coef    std err          t      P>|t|      [0.025      0.975]\n",
       "-----------------------------------------------------------------------------------\n",
       "Intercept         246.4341     35.233      6.995      0.000     176.358     316.510\n",
       "Literacy           -0.4889      0.128     -3.832      0.000      -0.743      -0.235\n",
       "np.log(Pop1831)   -31.3114      5.977     -5.239      0.000     -43.199     -19.424\n",
       "==============================================================================\n",
       "Omnibus:                        3.713   Durbin-Watson:                   2.019\n",
       "Prob(Omnibus):                  0.156   Jarque-Bera (JB):                3.394\n",
       "Skew:                          -0.487   Prob(JB):                        0.183\n",
       "Kurtosis:                       3.003   Cond. No.                         702.\n",
       "==============================================================================\n",
       "\n",
       "Notes:\n",
       "[1] Standard Errors assume that the covariance matrix of the errors is correctly specified.\n",
       "\"\"\""
      ]
     },
     "execution_count": 9,
     "metadata": {},
     "output_type": "execute_result"
    }
   ],
   "source": [
    "res.summary()"
   ]
  },
  {
   "cell_type": "markdown",
   "metadata": {},
   "source": [
    "# Normality of residuals\n",
    "## Jarque-Bera Test:"
   ]
  },
  {
   "cell_type": "code",
   "execution_count": 13,
   "metadata": {},
   "outputs": [],
   "source": [
    "name = [\"Jarque-Bera\", \"Chi^2 two-tail prob.\", \"Skew\", \"Kurtosis\" ]"
   ]
  },
  {
   "cell_type": "code",
   "execution_count": 14,
   "metadata": {},
   "outputs": [
    {
     "data": {
      "text/plain": [
       "[('Jarque-Bera', 3.393608024843163),\n",
       " ('Chi^2 two-tail prob.', 0.183268312316634),\n",
       " ('Skew', -0.48658034311223347),\n",
       " ('Kurtosis', 3.0034177578816315)]"
      ]
     },
     "execution_count": 14,
     "metadata": {},
     "output_type": "execute_result"
    }
   ],
   "source": [
    "test = sms.jarque_bera(res.resid)\n",
    "lzip(name, test)"
   ]
  },
  {
   "cell_type": "markdown",
   "metadata": {},
   "source": [
    "## Influence Tests"
   ]
  },
  {
   "cell_type": "code",
   "execution_count": 15,
   "metadata": {},
   "outputs": [],
   "source": [
    "from statsmodels.stats.outliers_influence import OLSInfluence"
   ]
  },
  {
   "cell_type": "code",
   "execution_count": 16,
   "metadata": {},
   "outputs": [],
   "source": [
    "test_class = OLSInfluence(res)"
   ]
  },
  {
   "cell_type": "code",
   "execution_count": 17,
   "metadata": {},
   "outputs": [
    {
     "data": {
      "text/plain": [
       "array([[ 8.26794653e-01, -9.37228508e-03, -3.91782694e-02],\n",
       "       [-4.60565242e-01, -6.00836231e-03,  1.07905336e-01],\n",
       "       [ 2.20296666e+00, -8.83371102e-03, -2.94410442e-01],\n",
       "       [-3.09677967e+00, -1.44344868e-02,  5.88879087e-01],\n",
       "       [-6.94207982e-01,  8.22842167e-04,  1.03706847e-01],\n",
       "       [ 4.10842584e-01, -1.11761663e-02,  7.29888204e-02],\n",
       "       [-1.89562753e-01,  2.08460190e-03, -6.30431760e-02],\n",
       "       [ 2.38248735e+00, -6.58585145e-03, -3.89952698e-01],\n",
       "       [ 4.44134010e+00, -7.37883826e-03, -6.57505666e-01],\n",
       "       [ 3.65734696e-02, -2.06183483e-03,  3.90285143e-02],\n",
       "       [ 1.48071908e-01,  4.65456319e-05, -2.83829919e-02],\n",
       "       [-4.66538011e+00,  2.34268272e-02,  5.91701800e-01],\n",
       "       [ 2.88977165e+00, -2.35317798e-02, -2.90569539e-01],\n",
       "       [-6.22764720e-02,  1.28974407e-03,  5.15640285e-03],\n",
       "       [-8.19834682e+00, -3.43559449e-02,  1.69772160e+00],\n",
       "       [ 4.31761529e+00, -1.53701973e-02, -5.82861140e-01],\n",
       "       [-4.22405692e+00, -2.94719098e-02,  9.84718253e-01],\n",
       "       [-2.35146857e+00, -2.59173442e-02,  5.36003813e-01],\n",
       "       [ 6.20049373e-01,  8.33424714e-04, -9.78728048e-02],\n",
       "       [-1.38342787e+00,  6.73344735e-03,  2.20907833e-01],\n",
       "       [ 5.09259278e-01,  2.62916393e-03, -9.56900305e-02],\n",
       "       [ 1.19736085e+00,  7.29688561e-03, -2.67496844e-01],\n",
       "       [-1.29277457e-01, -6.47989108e-04, -1.93540669e-02],\n",
       "       [ 1.27737123e+00,  5.76256499e-03, -2.89649054e-01],\n",
       "       [ 1.97904600e+00, -9.73429469e-04, -2.78575833e-01],\n",
       "       [ 5.51874962e+00,  3.79953138e-04, -9.94140373e-01],\n",
       "       [-3.74307070e-01, -5.13472910e-03,  5.32752450e-02],\n",
       "       [-3.86290820e-02, -1.20273661e-04,  7.78432429e-03],\n",
       "       [ 7.13054439e-01, -2.75757402e-03, -9.65224287e-02],\n",
       "       [-4.50913898e+00,  1.88517226e-02,  5.61536587e-01],\n",
       "       [ 2.40967630e+00,  5.36524736e-03, -4.70445544e-01],\n",
       "       [ 3.53124500e-01,  1.15021031e-02, -1.20015776e-01],\n",
       "       [ 2.34934185e+00, -7.19702128e-03, -3.18105693e-01],\n",
       "       [-3.77649468e+00,  7.34746930e-03,  5.61315140e-01],\n",
       "       [ 9.89144533e-02,  1.40066126e-03, -3.29759720e-02],\n",
       "       [ 4.60411626e-01, -2.56642572e-03, -5.39808375e-02],\n",
       "       [ 3.58913167e+00,  1.93207447e-02, -8.02154173e-01],\n",
       "       [-2.48872894e+00, -3.67313613e-03,  3.88879332e-01],\n",
       "       [ 2.81468715e+00, -1.18896762e-02, -3.59178559e-01],\n",
       "       [ 1.14331821e-01, -1.25873371e-03, -3.29716277e-03],\n",
       "       [ 4.03512875e+00, -3.23658884e-03, -6.49507853e-01],\n",
       "       [ 2.16995161e+00,  1.27706337e-02, -4.93357174e-01],\n",
       "       [-8.62295222e+00,  3.33610783e-03,  1.51572843e+00],\n",
       "       [-1.49548805e-01, -1.10109789e-02,  7.57780478e-02],\n",
       "       [ 2.90378751e+00,  2.48317171e-02, -6.23537062e-01],\n",
       "       [ 2.51565865e-01, -6.11674063e-03,  1.33462756e-02],\n",
       "       [ 3.43818376e-01, -3.93856383e-03, -3.92800204e-02],\n",
       "       [ 1.08474402e+00,  4.06195741e-02, -3.97870442e-01],\n",
       "       [ 1.20097250e+00,  1.83664451e-02, -3.63622024e-01],\n",
       "       [ 1.23292056e+00, -9.51014478e-03, -1.74267696e-01],\n",
       "       [ 4.48786854e-01, -2.30546599e-03, -5.48109215e-02],\n",
       "       [ 8.26463536e-01, -2.02018640e-04, -1.42705949e-01],\n",
       "       [-6.51444568e-01,  6.00152230e-03,  9.18956643e-02],\n",
       "       [-2.49535227e+00,  4.80926408e-03,  4.39999047e-01],\n",
       "       [-2.43383264e+00,  2.55255164e-03,  4.13425776e-01],\n",
       "       [-3.25680983e+00, -1.30028591e-02,  6.72661622e-01],\n",
       "       [-2.74549422e-02,  8.50487428e-05,  4.70241350e-03],\n",
       "       [ 5.61011389e+00,  1.56848662e-02, -1.00722195e+00],\n",
       "       [-2.83254646e+01,  1.62371375e-02,  4.58640525e+00],\n",
       "       [ 3.28454400e+00, -1.25447578e-02, -5.05092278e-01],\n",
       "       [ 1.42624243e+00, -1.58677730e-02, -1.62577634e-01],\n",
       "       [ 3.17462069e+00, -6.70997376e-03, -5.61058166e-01],\n",
       "       [ 4.23985775e-01,  2.38131733e-02, -1.70802637e-01],\n",
       "       [-1.87926040e+00, -3.40208764e-03,  3.63921455e-01],\n",
       "       [-9.97535684e-01, -3.57315141e-03,  2.12175358e-01],\n",
       "       [-2.00660631e+00,  4.55645474e-03,  3.19335422e-01],\n",
       "       [ 4.00914387e+00, -9.84541918e-04, -7.00765623e-01],\n",
       "       [-4.23713306e-01, -6.00472630e-03,  9.20526652e-02],\n",
       "       [ 2.76700506e+00, -1.42165091e-02, -4.20991303e-01],\n",
       "       [ 2.23239957e+00,  1.98146197e-03, -3.47482164e-01],\n",
       "       [-4.90230999e-01,  3.38500036e-04,  8.59446431e-02],\n",
       "       [ 7.43614153e-01, -9.43424212e-03, -3.86118372e-02],\n",
       "       [ 3.79929503e-01, -9.25233122e-04, -5.50358448e-02],\n",
       "       [-2.39294216e+00,  1.84468480e-02,  2.25950506e-01],\n",
       "       [-1.04927531e+01,  2.50987195e-03,  1.67201807e+00],\n",
       "       [ 9.68966751e-01, -7.44253347e-03, -8.13389374e-02],\n",
       "       [-2.45493542e+00,  9.58929083e-03,  3.18748435e-01],\n",
       "       [-1.21806216e+00,  8.47992643e-03,  1.34146839e-01],\n",
       "       [ 1.05312280e+00, -1.33271666e-02, -1.20371843e-01],\n",
       "       [ 6.52059030e-02,  3.44165591e-03, -1.16529839e-02],\n",
       "       [ 8.05347852e+00,  1.18358475e-02, -1.39816846e+00]])"
      ]
     },
     "execution_count": 17,
     "metadata": {},
     "output_type": "execute_result"
    }
   ],
   "source": [
    "test_class.dfbeta[5:,:]"
   ]
  },
  {
   "cell_type": "code",
   "execution_count": 18,
   "metadata": {},
   "outputs": [],
   "source": [
    "from statsmodels.graphics.regressionplots import plot_leverage_resid2"
   ]
  },
  {
   "cell_type": "code",
   "execution_count": 19,
   "metadata": {},
   "outputs": [
    {
     "data": {
      "image/png": "[encoded data removed]",
      "text/plain": [
       "<Figure size 720x720 with 1 Axes>"
      ]
     },
     "metadata": {
      "needs_background": "light"
     },
     "output_type": "display_data"
    }
   ],
   "source": [
    "fig, ax = plt.subplots(figsize=(10,10))\n",
    "fit = plot_leverage_resid2(res, ax=ax)"
   ]
  },
  {
   "cell_type": "markdown",
   "metadata": {},
   "source": [
    "# Multicollinearity"
   ]
  },
  {
   "cell_type": "code",
   "execution_count": 21,
   "metadata": {},
   "outputs": [
    {
     "data": {
      "text/plain": [
       "702.1792145490062"
      ]
     },
     "execution_count": 21,
     "metadata": {},
     "output_type": "execute_result"
    }
   ],
   "source": [
    " np.linalg.cond(res.model.exog)"
   ]
  },
  {
   "cell_type": "markdown",
   "metadata": {},
   "source": [
    "# Heteroskedasticity"
   ]
  },
  {
   "cell_type": "code",
   "execution_count": 23,
   "metadata": {},
   "outputs": [
    {
     "data": {
      "text/plain": [
       "[('Lagrange multiplier stat', 4.8932133740939765),\n",
       " ('p-value', 0.08658690502352126),\n",
       " ('f-value', 2.5037159462564467),\n",
       " ('f p-value', 0.08794028782672943)]"
      ]
     },
     "execution_count": 23,
     "metadata": {},
     "output_type": "execute_result"
    }
   ],
   "source": [
    "name = ['Lagrange multiplier stat', 'p-value', 'f-value', 'f p-value']\n",
    "test = sms.het_breuschpagan(res.resid, res.model.exog)\n",
    "lzip(name, test)"
   ]
  },
  {
   "cell_type": "code",
   "execution_count": 25,
   "metadata": {},
   "outputs": [
    {
     "data": {
      "text/plain": [
       "[('F stat', 1.1002422436378139), ('p-value', 0.38202950686925286)]"
      ]
     },
     "execution_count": 25,
     "metadata": {},
     "output_type": "execute_result"
    }
   ],
   "source": [
    "name = ['F stat', 'p-value']\n",
    "test = sms.het_goldfeldquandt(res.resid, res.model.exog)\n",
    "lzip(name, test)"
   ]
  },
  {
   "cell_type": "markdown",
   "metadata": {},
   "source": [
    "# Linearity"
   ]
  },
  {
   "cell_type": "code",
   "execution_count": 26,
   "metadata": {},
   "outputs": [
    {
     "data": {
      "text/plain": [
       "[('t value', -1.07964900777768), ('p value', 0.2834639247561694)]"
      ]
     },
     "execution_count": 26,
     "metadata": {},
     "output_type": "execute_result"
    }
   ],
   "source": [
    "name = ['t value', 'p value']\n",
    "test = sms.linear_harvey_collier(res)\n",
    "lzip(name, test)"
   ]
  },
  {
   "cell_type": "code",
   "execution_count": null,
   "metadata": {},
   "outputs": [],
   "source": []
  }
 ],
 "metadata": {
  "kernelspec": {
   "display_name": "Python 3",
   "language": "python",
   "name": "python3"
  },
  "language_info": {
   "codemirror_mode": {
    "name": "ipython",
    "version": 3
   },
   "file_extension": ".py",
   "mimetype": "text/x-python",
   "name": "python",
   "nbconvert_exporter": "python",
   "pygments_lexer": "ipython3",
   "version": "3.9.1"
  }
 },
 "nbformat": 4,
 "nbformat_minor": 4
}
