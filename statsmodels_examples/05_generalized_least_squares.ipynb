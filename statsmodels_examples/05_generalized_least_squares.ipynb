{
 "cells": [
  {
   "cell_type": "markdown",
   "metadata": {},
   "source": [
    "# Generalized Least Squares"
   ]
  },
  {
   "cell_type": "code",
   "execution_count": 1,
   "metadata": {},
   "outputs": [],
   "source": [
    "import statsmodels.api as sm"
   ]
  },
  {
   "cell_type": "code",
   "execution_count": 2,
   "metadata": {},
   "outputs": [],
   "source": [
    "# Longley datasets Time Series\n",
    "\n",
    "data = sm.datasets.longley.load(as_pandas=False)\n",
    "data.exog = sm.add_constant(data.exog)"
   ]
  },
  {
   "cell_type": "code",
   "execution_count": 4,
   "metadata": {},
   "outputs": [],
   "source": [
    "ols_resid = sm.OLS(data.endog, data.exog).fit().resid"
   ]
  },
  {
   "cell_type": "code",
   "execution_count": 8,
   "metadata": {},
   "outputs": [],
   "source": [
    "resid_fit = sm.OLS(ols_resid[1:], sm.add_constant(ols_resid[:-1])).fit()\n"
   ]
  },
  {
   "cell_type": "code",
   "execution_count": 9,
   "metadata": {},
   "outputs": [
    {
     "name": "stdout",
     "output_type": "stream",
     "text": [
      "-1.4390229839865958\n",
      "0.17378444788452777\n"
     ]
    }
   ],
   "source": [
    "print(resid_fit.tvalues[1])\n",
    "print(resid_fit.pvalues[1])"
   ]
  },
  {
   "cell_type": "code",
   "execution_count": 10,
   "metadata": {},
   "outputs": [],
   "source": [
    "rho = resid_fit.params[1]"
   ]
  },
  {
   "cell_type": "code",
   "execution_count": 11,
   "metadata": {},
   "outputs": [
    {
     "name": "stdout",
     "output_type": "stream",
     "text": [
      "-0.3634294908796553\n"
     ]
    }
   ],
   "source": [
    "print(rho)"
   ]
  },
  {
   "cell_type": "code",
   "execution_count": 12,
   "metadata": {},
   "outputs": [
    {
     "data": {
      "text/plain": [
       "array([[0, 1, 2, 3, 4],\n",
       "       [1, 0, 1, 2, 3],\n",
       "       [2, 1, 0, 1, 2],\n",
       "       [3, 2, 1, 0, 1],\n",
       "       [4, 3, 2, 1, 0]])"
      ]
     },
     "execution_count": 12,
     "metadata": {},
     "output_type": "execute_result"
    }
   ],
   "source": [
    "from scipy.linalg import toeplitz\n",
    "toeplitz(range(5))"
   ]
  },
  {
   "cell_type": "code",
   "execution_count": 13,
   "metadata": {},
   "outputs": [],
   "source": [
    "order = toeplitz(range(len(ols_resid)))"
   ]
  },
  {
   "cell_type": "code",
   "execution_count": 15,
   "metadata": {},
   "outputs": [],
   "source": [
    "sigma = rho**order\n",
    "gls_model = sm.GLS(data.endog, data.exog, sigma=sigma)"
   ]
  },
  {
   "cell_type": "code",
   "execution_count": 16,
   "metadata": {},
   "outputs": [],
   "source": [
    "gls_results = gls_model.fit()"
   ]
  },
  {
   "cell_type": "code",
   "execution_count": 18,
   "metadata": {},
   "outputs": [
    {
     "name": "stderr",
     "output_type": "stream",
     "text": [
      "/Library/Frameworks/Python.framework/Versions/3.9/lib/python3.9/site-packages/scipy/stats/stats.py:1603: UserWarning: kurtosistest only valid for n>=20 ... continuing anyway, n=16\n",
      "  warnings.warn(\"kurtosistest only valid for n>=20 ... continuing \"\n"
     ]
    },
    {
     "data": {
      "text/html": [
       "<table class=\"simpletable\">\n",
       "<caption>GLS Regression Results</caption>\n",
       "<tr>\n",
       "  <th>Dep. Variable:</th>            <td>y</td>        <th>  R-squared:         </th> <td>   0.998</td>\n",
       "</tr>\n",
       "<tr>\n",
       "  <th>Model:</th>                   <td>GLS</td>       <th>  Adj. R-squared:    </th> <td>   0.997</td>\n",
       "</tr>\n",
       "<tr>\n",
       "  <th>Method:</th>             <td>Least Squares</td>  <th>  F-statistic:       </th> <td>   724.0</td>\n",
       "</tr>\n",
       "<tr>\n",
       "  <th>Date:</th>             <td>Mon, 16 Aug 2021</td> <th>  Prob (F-statistic):</th> <td>1.48e-11</td>\n",
       "</tr>\n",
       "<tr>\n",
       "  <th>Time:</th>                 <td>15:14:48</td>     <th>  Log-Likelihood:    </th> <td> -107.50</td>\n",
       "</tr>\n",
       "<tr>\n",
       "  <th>No. Observations:</th>      <td>    16</td>      <th>  AIC:               </th> <td>   229.0</td>\n",
       "</tr>\n",
       "<tr>\n",
       "  <th>Df Residuals:</th>          <td>     9</td>      <th>  BIC:               </th> <td>   234.4</td>\n",
       "</tr>\n",
       "<tr>\n",
       "  <th>Df Model:</th>              <td>     6</td>      <th>                     </th>     <td> </td>   \n",
       "</tr>\n",
       "<tr>\n",
       "  <th>Covariance Type:</th>      <td>nonrobust</td>    <th>                     </th>     <td> </td>   \n",
       "</tr>\n",
       "</table>\n",
       "<table class=\"simpletable\">\n",
       "<tr>\n",
       "    <td></td>       <th>coef</th>     <th>std err</th>      <th>t</th>      <th>P>|t|</th>  <th>[0.025</th>    <th>0.975]</th>  \n",
       "</tr>\n",
       "<tr>\n",
       "  <th>const</th> <td>-3.798e+06</td> <td> 6.71e+05</td> <td>   -5.663</td> <td> 0.000</td> <td>-5.32e+06</td> <td>-2.28e+06</td>\n",
       "</tr>\n",
       "<tr>\n",
       "  <th>x1</th>    <td>  -12.7656</td> <td>   69.431</td> <td>   -0.184</td> <td> 0.858</td> <td> -169.829</td> <td>  144.298</td>\n",
       "</tr>\n",
       "<tr>\n",
       "  <th>x2</th>    <td>   -0.0380</td> <td>    0.026</td> <td>   -1.448</td> <td> 0.182</td> <td>   -0.097</td> <td>    0.021</td>\n",
       "</tr>\n",
       "<tr>\n",
       "  <th>x3</th>    <td>   -2.1869</td> <td>    0.382</td> <td>   -5.719</td> <td> 0.000</td> <td>   -3.052</td> <td>   -1.322</td>\n",
       "</tr>\n",
       "<tr>\n",
       "  <th>x4</th>    <td>   -1.1518</td> <td>    0.165</td> <td>   -6.970</td> <td> 0.000</td> <td>   -1.526</td> <td>   -0.778</td>\n",
       "</tr>\n",
       "<tr>\n",
       "  <th>x5</th>    <td>   -0.0681</td> <td>    0.176</td> <td>   -0.386</td> <td> 0.709</td> <td>   -0.467</td> <td>    0.331</td>\n",
       "</tr>\n",
       "<tr>\n",
       "  <th>x6</th>    <td> 1993.9529</td> <td>  342.635</td> <td>    5.819</td> <td> 0.000</td> <td> 1218.860</td> <td> 2769.046</td>\n",
       "</tr>\n",
       "</table>\n",
       "<table class=\"simpletable\">\n",
       "<tr>\n",
       "  <th>Omnibus:</th>       <td> 1.365</td> <th>  Durbin-Watson:     </th> <td>   2.534</td>\n",
       "</tr>\n",
       "<tr>\n",
       "  <th>Prob(Omnibus):</th> <td> 0.505</td> <th>  Jarque-Bera (JB):  </th> <td>   0.885</td>\n",
       "</tr>\n",
       "<tr>\n",
       "  <th>Skew:</th>          <td> 0.209</td> <th>  Prob(JB):          </th> <td>   0.642</td>\n",
       "</tr>\n",
       "<tr>\n",
       "  <th>Kurtosis:</th>      <td> 1.926</td> <th>  Cond. No.          </th> <td>5.61e+09</td>\n",
       "</tr>\n",
       "</table><br/><br/>Notes:<br/>[1] Standard Errors assume that the covariance matrix of the errors is correctly specified.<br/>[2] The condition number is large, 5.61e+09. This might indicate that there are<br/>strong multicollinearity or other numerical problems."
      ],
      "text/plain": [
       "<class 'statsmodels.iolib.summary.Summary'>\n",
       "\"\"\"\n",
       "                            GLS Regression Results                            \n",
       "==============================================================================\n",
       "Dep. Variable:                      y   R-squared:                       0.998\n",
       "Model:                            GLS   Adj. R-squared:                  0.997\n",
       "Method:                 Least Squares   F-statistic:                     724.0\n",
       "Date:                Mon, 16 Aug 2021   Prob (F-statistic):           1.48e-11\n",
       "Time:                        15:14:48   Log-Likelihood:                -107.50\n",
       "No. Observations:                  16   AIC:                             229.0\n",
       "Df Residuals:                       9   BIC:                             234.4\n",
       "Df Model:                           6                                         \n",
       "Covariance Type:            nonrobust                                         \n",
       "==============================================================================\n",
       "                 coef    std err          t      P>|t|      [0.025      0.975]\n",
       "------------------------------------------------------------------------------\n",
       "const      -3.798e+06   6.71e+05     -5.663      0.000   -5.32e+06   -2.28e+06\n",
       "x1           -12.7656     69.431     -0.184      0.858    -169.829     144.298\n",
       "x2            -0.0380      0.026     -1.448      0.182      -0.097       0.021\n",
       "x3            -2.1869      0.382     -5.719      0.000      -3.052      -1.322\n",
       "x4            -1.1518      0.165     -6.970      0.000      -1.526      -0.778\n",
       "x5            -0.0681      0.176     -0.386      0.709      -0.467       0.331\n",
       "x6          1993.9529    342.635      5.819      0.000    1218.860    2769.046\n",
       "==============================================================================\n",
       "Omnibus:                        1.365   Durbin-Watson:                   2.534\n",
       "Prob(Omnibus):                  0.505   Jarque-Bera (JB):                0.885\n",
       "Skew:                           0.209   Prob(JB):                        0.642\n",
       "Kurtosis:                       1.926   Cond. No.                     5.61e+09\n",
       "==============================================================================\n",
       "\n",
       "Notes:\n",
       "[1] Standard Errors assume that the covariance matrix of the errors is correctly specified.\n",
       "[2] The condition number is large, 5.61e+09. This might indicate that there are\n",
       "strong multicollinearity or other numerical problems.\n",
       "\"\"\""
      ]
     },
     "execution_count": 18,
     "metadata": {},
     "output_type": "execute_result"
    }
   ],
   "source": [
    "gls_results.summary()"
   ]
  },
  {
   "cell_type": "code",
   "execution_count": 19,
   "metadata": {},
   "outputs": [
    {
     "name": "stderr",
     "output_type": "stream",
     "text": [
      "/Library/Frameworks/Python.framework/Versions/3.9/lib/python3.9/site-packages/scipy/stats/stats.py:1603: UserWarning: kurtosistest only valid for n>=20 ... continuing anyway, n=15\n",
      "  warnings.warn(\"kurtosistest only valid for n>=20 ... continuing \"\n"
     ]
    },
    {
     "data": {
      "text/html": [
       "<table class=\"simpletable\">\n",
       "<caption>GLSAR Regression Results</caption>\n",
       "<tr>\n",
       "  <th>Dep. Variable:</th>            <td>y</td>        <th>  R-squared:         </th> <td>   0.996</td>\n",
       "</tr>\n",
       "<tr>\n",
       "  <th>Model:</th>                  <td>GLSAR</td>      <th>  Adj. R-squared:    </th> <td>   0.992</td>\n",
       "</tr>\n",
       "<tr>\n",
       "  <th>Method:</th>             <td>Least Squares</td>  <th>  F-statistic:       </th> <td>   295.2</td>\n",
       "</tr>\n",
       "<tr>\n",
       "  <th>Date:</th>             <td>Mon, 16 Aug 2021</td> <th>  Prob (F-statistic):</th> <td>6.09e-09</td>\n",
       "</tr>\n",
       "<tr>\n",
       "  <th>Time:</th>                 <td>15:16:10</td>     <th>  Log-Likelihood:    </th> <td> -102.04</td>\n",
       "</tr>\n",
       "<tr>\n",
       "  <th>No. Observations:</th>      <td>    15</td>      <th>  AIC:               </th> <td>   218.1</td>\n",
       "</tr>\n",
       "<tr>\n",
       "  <th>Df Residuals:</th>          <td>     8</td>      <th>  BIC:               </th> <td>   223.0</td>\n",
       "</tr>\n",
       "<tr>\n",
       "  <th>Df Model:</th>              <td>     6</td>      <th>                     </th>     <td> </td>   \n",
       "</tr>\n",
       "<tr>\n",
       "  <th>Covariance Type:</th>      <td>nonrobust</td>    <th>                     </th>     <td> </td>   \n",
       "</tr>\n",
       "</table>\n",
       "<table class=\"simpletable\">\n",
       "<tr>\n",
       "    <td></td>       <th>coef</th>     <th>std err</th>      <th>t</th>      <th>P>|t|</th>  <th>[0.025</th>    <th>0.975]</th>  \n",
       "</tr>\n",
       "<tr>\n",
       "  <th>const</th> <td>-3.468e+06</td> <td> 8.72e+05</td> <td>   -3.979</td> <td> 0.004</td> <td>-5.48e+06</td> <td>-1.46e+06</td>\n",
       "</tr>\n",
       "<tr>\n",
       "  <th>x1</th>    <td>   34.5568</td> <td>   84.734</td> <td>    0.408</td> <td> 0.694</td> <td> -160.840</td> <td>  229.953</td>\n",
       "</tr>\n",
       "<tr>\n",
       "  <th>x2</th>    <td>   -0.0343</td> <td>    0.033</td> <td>   -1.047</td> <td> 0.326</td> <td>   -0.110</td> <td>    0.041</td>\n",
       "</tr>\n",
       "<tr>\n",
       "  <th>x3</th>    <td>   -1.9621</td> <td>    0.481</td> <td>   -4.083</td> <td> 0.004</td> <td>   -3.070</td> <td>   -0.854</td>\n",
       "</tr>\n",
       "<tr>\n",
       "  <th>x4</th>    <td>   -1.0020</td> <td>    0.211</td> <td>   -4.740</td> <td> 0.001</td> <td>   -1.489</td> <td>   -0.515</td>\n",
       "</tr>\n",
       "<tr>\n",
       "  <th>x5</th>    <td>   -0.0978</td> <td>    0.225</td> <td>   -0.435</td> <td> 0.675</td> <td>   -0.616</td> <td>    0.421</td>\n",
       "</tr>\n",
       "<tr>\n",
       "  <th>x6</th>    <td> 1823.1829</td> <td>  445.829</td> <td>    4.089</td> <td> 0.003</td> <td>  795.100</td> <td> 2851.266</td>\n",
       "</tr>\n",
       "</table>\n",
       "<table class=\"simpletable\">\n",
       "<tr>\n",
       "  <th>Omnibus:</th>       <td> 1.960</td> <th>  Durbin-Watson:     </th> <td>   2.554</td>\n",
       "</tr>\n",
       "<tr>\n",
       "  <th>Prob(Omnibus):</th> <td> 0.375</td> <th>  Jarque-Bera (JB):  </th> <td>   1.423</td>\n",
       "</tr>\n",
       "<tr>\n",
       "  <th>Skew:</th>          <td> 0.713</td> <th>  Prob(JB):          </th> <td>   0.491</td>\n",
       "</tr>\n",
       "<tr>\n",
       "  <th>Kurtosis:</th>      <td> 2.508</td> <th>  Cond. No.          </th> <td>4.80e+09</td>\n",
       "</tr>\n",
       "</table><br/><br/>Notes:<br/>[1] Standard Errors assume that the covariance matrix of the errors is correctly specified.<br/>[2] The condition number is large, 4.8e+09. This might indicate that there are<br/>strong multicollinearity or other numerical problems."
      ],
      "text/plain": [
       "<class 'statsmodels.iolib.summary.Summary'>\n",
       "\"\"\"\n",
       "                           GLSAR Regression Results                           \n",
       "==============================================================================\n",
       "Dep. Variable:                      y   R-squared:                       0.996\n",
       "Model:                          GLSAR   Adj. R-squared:                  0.992\n",
       "Method:                 Least Squares   F-statistic:                     295.2\n",
       "Date:                Mon, 16 Aug 2021   Prob (F-statistic):           6.09e-09\n",
       "Time:                        15:16:10   Log-Likelihood:                -102.04\n",
       "No. Observations:                  15   AIC:                             218.1\n",
       "Df Residuals:                       8   BIC:                             223.0\n",
       "Df Model:                           6                                         \n",
       "Covariance Type:            nonrobust                                         \n",
       "==============================================================================\n",
       "                 coef    std err          t      P>|t|      [0.025      0.975]\n",
       "------------------------------------------------------------------------------\n",
       "const      -3.468e+06   8.72e+05     -3.979      0.004   -5.48e+06   -1.46e+06\n",
       "x1            34.5568     84.734      0.408      0.694    -160.840     229.953\n",
       "x2            -0.0343      0.033     -1.047      0.326      -0.110       0.041\n",
       "x3            -1.9621      0.481     -4.083      0.004      -3.070      -0.854\n",
       "x4            -1.0020      0.211     -4.740      0.001      -1.489      -0.515\n",
       "x5            -0.0978      0.225     -0.435      0.675      -0.616       0.421\n",
       "x6          1823.1829    445.829      4.089      0.003     795.100    2851.266\n",
       "==============================================================================\n",
       "Omnibus:                        1.960   Durbin-Watson:                   2.554\n",
       "Prob(Omnibus):                  0.375   Jarque-Bera (JB):                1.423\n",
       "Skew:                           0.713   Prob(JB):                        0.491\n",
       "Kurtosis:                       2.508   Cond. No.                     4.80e+09\n",
       "==============================================================================\n",
       "\n",
       "Notes:\n",
       "[1] Standard Errors assume that the covariance matrix of the errors is correctly specified.\n",
       "[2] The condition number is large, 4.8e+09. This might indicate that there are\n",
       "strong multicollinearity or other numerical problems.\n",
       "\"\"\""
      ]
     },
     "execution_count": 19,
     "metadata": {},
     "output_type": "execute_result"
    }
   ],
   "source": [
    "glsar_model = sm.GLSAR(data.endog, data.exog, 1)\n",
    "glsar_results = glsar_model.iterative_fit(1)\n",
    "glsar_results.summary()"
   ]
  },
  {
   "cell_type": "code",
   "execution_count": 21,
   "metadata": {},
   "outputs": [
    {
     "name": "stdout",
     "output_type": "stream",
     "text": [
      "[-3.79785490e+06 -1.27656454e+01 -3.80013250e-02 -2.18694871e+00\n",
      " -1.15177649e+00 -6.80535580e-02  1.99395293e+03]\n",
      "[-3.46796063e+06  3.45567846e+01 -3.43410090e-02 -1.96214395e+00\n",
      " -1.00197296e+00 -9.78045986e-02  1.82318289e+03]\n",
      "==================================\n",
      "[6.70688699e+05 6.94308073e+01 2.62476822e-02 3.82393151e-01\n",
      " 1.65252692e-01 1.76428334e-01 3.42634628e+02]\n",
      "[8.71584052e+05 8.47337145e+01 3.28032450e-02 4.80544865e-01\n",
      " 2.11383871e-01 2.24774369e-01 4.45828748e+02]\n"
     ]
    }
   ],
   "source": [
    "print(gls_results.params)\n",
    "print(glsar_results.params)\n",
    "print(\"==================================\")\n",
    "print(gls_results.bse)\n",
    "print(glsar_results.bse)"
   ]
  },
  {
   "cell_type": "code",
   "execution_count": null,
   "metadata": {},
   "outputs": [],
   "source": []
  }
 ],
 "metadata": {
  "kernelspec": {
   "display_name": "Python 3",
   "language": "python",
   "name": "python3"
  },
  "language_info": {
   "codemirror_mode": {
    "name": "ipython",
    "version": 3
   },
   "file_extension": ".py",
   "mimetype": "text/x-python",
   "name": "python",
   "nbconvert_exporter": "python",
   "pygments_lexer": "ipython3",
   "version": "3.9.1"
  }
 },
 "nbformat": 4,
 "nbformat_minor": 4
}
