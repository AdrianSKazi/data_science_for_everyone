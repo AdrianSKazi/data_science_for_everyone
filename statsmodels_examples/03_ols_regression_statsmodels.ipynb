{
 "cells": [
  {
   "cell_type": "markdown",
   "metadata": {},
   "source": [
    "# Ordinary Least Squares"
   ]
  },
  {
   "cell_type": "code",
   "execution_count": 13,
   "metadata": {},
   "outputs": [],
   "source": [
    "import pandas as pd\n",
    "import numpy as np\n",
    "import matplotlib.pyplot as plt\n",
    "\n",
    "import statsmodels.api as sm\n",
    "from statsmodels.sandbox.regression.predstd import wls_prediction_std\n",
    "\n",
    "np.random.seed(42)"
   ]
  },
  {
   "cell_type": "code",
   "execution_count": 4,
   "metadata": {},
   "outputs": [],
   "source": [
    "# Fake Data\n",
    "nsample = 100\n",
    "x = np.linspace(0,10,100)\n",
    "X = np.column_stack((x, x**2))\n",
    "beta = np.array([1,0.1, 10])\n",
    "e = np.random.normal(size=nsample)"
   ]
  },
  {
   "cell_type": "code",
   "execution_count": 5,
   "metadata": {},
   "outputs": [],
   "source": [
    "X = sm.add_constant(X)\n",
    "y = np.dot(X, beta) + e"
   ]
  },
  {
   "cell_type": "code",
   "execution_count": 6,
   "metadata": {},
   "outputs": [
    {
     "data": {
      "text/html": [
       "<table class=\"simpletable\">\n",
       "<caption>OLS Regression Results</caption>\n",
       "<tr>\n",
       "  <th>Dep. Variable:</th>            <td>y</td>        <th>  R-squared:         </th> <td>   1.000</td> \n",
       "</tr>\n",
       "<tr>\n",
       "  <th>Model:</th>                   <td>OLS</td>       <th>  Adj. R-squared:    </th> <td>   1.000</td> \n",
       "</tr>\n",
       "<tr>\n",
       "  <th>Method:</th>             <td>Least Squares</td>  <th>  F-statistic:       </th> <td>5.437e+06</td>\n",
       "</tr>\n",
       "<tr>\n",
       "  <th>Date:</th>             <td>Wed, 11 Aug 2021</td> <th>  Prob (F-statistic):</th> <td>1.24e-245</td>\n",
       "</tr>\n",
       "<tr>\n",
       "  <th>Time:</th>                 <td>15:11:28</td>     <th>  Log-Likelihood:    </th> <td> -131.47</td> \n",
       "</tr>\n",
       "<tr>\n",
       "  <th>No. Observations:</th>      <td>   100</td>      <th>  AIC:               </th> <td>   268.9</td> \n",
       "</tr>\n",
       "<tr>\n",
       "  <th>Df Residuals:</th>          <td>    97</td>      <th>  BIC:               </th> <td>   276.8</td> \n",
       "</tr>\n",
       "<tr>\n",
       "  <th>Df Model:</th>              <td>     2</td>      <th>                     </th>     <td> </td>    \n",
       "</tr>\n",
       "<tr>\n",
       "  <th>Covariance Type:</th>      <td>nonrobust</td>    <th>                     </th>     <td> </td>    \n",
       "</tr>\n",
       "</table>\n",
       "<table class=\"simpletable\">\n",
       "<tr>\n",
       "    <td></td>       <th>coef</th>     <th>std err</th>      <th>t</th>      <th>P>|t|</th>  <th>[0.025</th>    <th>0.975]</th>  \n",
       "</tr>\n",
       "<tr>\n",
       "  <th>const</th> <td>    0.9481</td> <td>    0.269</td> <td>    3.524</td> <td> 0.001</td> <td>    0.414</td> <td>    1.482</td>\n",
       "</tr>\n",
       "<tr>\n",
       "  <th>x1</th>    <td>    0.0405</td> <td>    0.124</td> <td>    0.326</td> <td> 0.745</td> <td>   -0.206</td> <td>    0.287</td>\n",
       "</tr>\n",
       "<tr>\n",
       "  <th>x2</th>    <td>   10.0073</td> <td>    0.012</td> <td>  831.696</td> <td> 0.000</td> <td>    9.983</td> <td>   10.031</td>\n",
       "</tr>\n",
       "</table>\n",
       "<table class=\"simpletable\">\n",
       "<tr>\n",
       "  <th>Omnibus:</th>       <td> 0.407</td> <th>  Durbin-Watson:     </th> <td>   2.050</td>\n",
       "</tr>\n",
       "<tr>\n",
       "  <th>Prob(Omnibus):</th> <td> 0.816</td> <th>  Jarque-Bera (JB):  </th> <td>   0.431</td>\n",
       "</tr>\n",
       "<tr>\n",
       "  <th>Skew:</th>          <td>-0.147</td> <th>  Prob(JB):          </th> <td>   0.806</td>\n",
       "</tr>\n",
       "<tr>\n",
       "  <th>Kurtosis:</th>      <td> 2.872</td> <th>  Cond. No.          </th> <td>    144.</td>\n",
       "</tr>\n",
       "</table><br/><br/>Notes:<br/>[1] Standard Errors assume that the covariance matrix of the errors is correctly specified."
      ],
      "text/plain": [
       "<class 'statsmodels.iolib.summary.Summary'>\n",
       "\"\"\"\n",
       "                            OLS Regression Results                            \n",
       "==============================================================================\n",
       "Dep. Variable:                      y   R-squared:                       1.000\n",
       "Model:                            OLS   Adj. R-squared:                  1.000\n",
       "Method:                 Least Squares   F-statistic:                 5.437e+06\n",
       "Date:                Wed, 11 Aug 2021   Prob (F-statistic):          1.24e-245\n",
       "Time:                        15:11:28   Log-Likelihood:                -131.47\n",
       "No. Observations:                 100   AIC:                             268.9\n",
       "Df Residuals:                      97   BIC:                             276.8\n",
       "Df Model:                           2                                         \n",
       "Covariance Type:            nonrobust                                         \n",
       "==============================================================================\n",
       "                 coef    std err          t      P>|t|      [0.025      0.975]\n",
       "------------------------------------------------------------------------------\n",
       "const          0.9481      0.269      3.524      0.001       0.414       1.482\n",
       "x1             0.0405      0.124      0.326      0.745      -0.206       0.287\n",
       "x2            10.0073      0.012    831.696      0.000       9.983      10.031\n",
       "==============================================================================\n",
       "Omnibus:                        0.407   Durbin-Watson:                   2.050\n",
       "Prob(Omnibus):                  0.816   Jarque-Bera (JB):                0.431\n",
       "Skew:                          -0.147   Prob(JB):                        0.806\n",
       "Kurtosis:                       2.872   Cond. No.                         144.\n",
       "==============================================================================\n",
       "\n",
       "Notes:\n",
       "[1] Standard Errors assume that the covariance matrix of the errors is correctly specified.\n",
       "\"\"\""
      ]
     },
     "execution_count": 6,
     "metadata": {},
     "output_type": "execute_result"
    }
   ],
   "source": [
    "# Model fit and Summary\n",
    "res = sm.OLS(y, X).fit()\n",
    "res.summary()"
   ]
  },
  {
   "cell_type": "code",
   "execution_count": 7,
   "metadata": {},
   "outputs": [
    {
     "name": "stdout",
     "output_type": "stream",
     "text": [
      "R2:  0.9999910791623945\n"
     ]
    }
   ],
   "source": [
    "print(\"R2: \", res.rsquared )"
   ]
  },
  {
   "cell_type": "markdown",
   "metadata": {},
   "source": [
    "## OLS non-linear curve but linear in parameters"
   ]
  },
  {
   "cell_type": "code",
   "execution_count": 8,
   "metadata": {},
   "outputs": [],
   "source": [
    "# Fake Data 2\n",
    "nsample = 100\n",
    "sig = 0.5\n",
    "x = np.linspace(0,20, nsample)\n",
    "X = np.column_stack((x, np.sin(x), (x-5)**2, np.ones(nsample)))\n",
    "beta = np.array([0.5, 0.5, -0.02, 5.])\n",
    "y_true = np.dot(X, beta)\n",
    "y = y_true + sig * np.random.normal(size=nsample) # Adds noise"
   ]
  },
  {
   "cell_type": "code",
   "execution_count": 10,
   "metadata": {},
   "outputs": [
    {
     "data": {
      "text/html": [
       "<table class=\"simpletable\">\n",
       "<caption>OLS Regression Results</caption>\n",
       "<tr>\n",
       "  <th>Dep. Variable:</th>            <td>y</td>        <th>  R-squared:         </th> <td>   0.938</td>\n",
       "</tr>\n",
       "<tr>\n",
       "  <th>Model:</th>                   <td>OLS</td>       <th>  Adj. R-squared:    </th> <td>   0.936</td>\n",
       "</tr>\n",
       "<tr>\n",
       "  <th>Method:</th>             <td>Least Squares</td>  <th>  F-statistic:       </th> <td>   483.6</td>\n",
       "</tr>\n",
       "<tr>\n",
       "  <th>Date:</th>             <td>Wed, 11 Aug 2021</td> <th>  Prob (F-statistic):</th> <td>8.70e-58</td>\n",
       "</tr>\n",
       "<tr>\n",
       "  <th>Time:</th>                 <td>15:15:28</td>     <th>  Log-Likelihood:    </th> <td> -66.878</td>\n",
       "</tr>\n",
       "<tr>\n",
       "  <th>No. Observations:</th>      <td>   100</td>      <th>  AIC:               </th> <td>   141.8</td>\n",
       "</tr>\n",
       "<tr>\n",
       "  <th>Df Residuals:</th>          <td>    96</td>      <th>  BIC:               </th> <td>   152.2</td>\n",
       "</tr>\n",
       "<tr>\n",
       "  <th>Df Model:</th>              <td>     3</td>      <th>                     </th>     <td> </td>   \n",
       "</tr>\n",
       "<tr>\n",
       "  <th>Covariance Type:</th>      <td>nonrobust</td>    <th>                     </th>     <td> </td>   \n",
       "</tr>\n",
       "</table>\n",
       "<table class=\"simpletable\">\n",
       "<tr>\n",
       "    <td></td>       <th>coef</th>     <th>std err</th>      <th>t</th>      <th>P>|t|</th>  <th>[0.025</th>    <th>0.975]</th>  \n",
       "</tr>\n",
       "<tr>\n",
       "  <th>x1</th>    <td>    0.5151</td> <td>    0.018</td> <td>   28.252</td> <td> 0.000</td> <td>    0.479</td> <td>    0.551</td>\n",
       "</tr>\n",
       "<tr>\n",
       "  <th>x2</th>    <td>    0.4970</td> <td>    0.070</td> <td>    7.053</td> <td> 0.000</td> <td>    0.357</td> <td>    0.637</td>\n",
       "</tr>\n",
       "<tr>\n",
       "  <th>x3</th>    <td>   -0.0215</td> <td>    0.002</td> <td>  -13.399</td> <td> 0.000</td> <td>   -0.025</td> <td>   -0.018</td>\n",
       "</tr>\n",
       "<tr>\n",
       "  <th>const</th> <td>    4.9465</td> <td>    0.118</td> <td>   41.839</td> <td> 0.000</td> <td>    4.712</td> <td>    5.181</td>\n",
       "</tr>\n",
       "</table>\n",
       "<table class=\"simpletable\">\n",
       "<tr>\n",
       "  <th>Omnibus:</th>       <td> 2.638</td> <th>  Durbin-Watson:     </th> <td>   2.167</td>\n",
       "</tr>\n",
       "<tr>\n",
       "  <th>Prob(Omnibus):</th> <td> 0.267</td> <th>  Jarque-Bera (JB):  </th> <td>   2.323</td>\n",
       "</tr>\n",
       "<tr>\n",
       "  <th>Skew:</th>          <td> 0.373</td> <th>  Prob(JB):          </th> <td>   0.313</td>\n",
       "</tr>\n",
       "<tr>\n",
       "  <th>Kurtosis:</th>      <td> 3.028</td> <th>  Cond. No.          </th> <td>    223.</td>\n",
       "</tr>\n",
       "</table><br/><br/>Notes:<br/>[1] Standard Errors assume that the covariance matrix of the errors is correctly specified."
      ],
      "text/plain": [
       "<class 'statsmodels.iolib.summary.Summary'>\n",
       "\"\"\"\n",
       "                            OLS Regression Results                            \n",
       "==============================================================================\n",
       "Dep. Variable:                      y   R-squared:                       0.938\n",
       "Model:                            OLS   Adj. R-squared:                  0.936\n",
       "Method:                 Least Squares   F-statistic:                     483.6\n",
       "Date:                Wed, 11 Aug 2021   Prob (F-statistic):           8.70e-58\n",
       "Time:                        15:15:28   Log-Likelihood:                -66.878\n",
       "No. Observations:                 100   AIC:                             141.8\n",
       "Df Residuals:                      96   BIC:                             152.2\n",
       "Df Model:                           3                                         \n",
       "Covariance Type:            nonrobust                                         \n",
       "==============================================================================\n",
       "                 coef    std err          t      P>|t|      [0.025      0.975]\n",
       "------------------------------------------------------------------------------\n",
       "x1             0.5151      0.018     28.252      0.000       0.479       0.551\n",
       "x2             0.4970      0.070      7.053      0.000       0.357       0.637\n",
       "x3            -0.0215      0.002    -13.399      0.000      -0.025      -0.018\n",
       "const          4.9465      0.118     41.839      0.000       4.712       5.181\n",
       "==============================================================================\n",
       "Omnibus:                        2.638   Durbin-Watson:                   2.167\n",
       "Prob(Omnibus):                  0.267   Jarque-Bera (JB):                2.323\n",
       "Skew:                           0.373   Prob(JB):                        0.313\n",
       "Kurtosis:                       3.028   Cond. No.                         223.\n",
       "==============================================================================\n",
       "\n",
       "Notes:\n",
       "[1] Standard Errors assume that the covariance matrix of the errors is correctly specified.\n",
       "\"\"\""
      ]
     },
     "execution_count": 10,
     "metadata": {},
     "output_type": "execute_result"
    }
   ],
   "source": [
    "res_2 = sm.OLS(y, X).fit()\n",
    "res_2.summary()"
   ]
  },
  {
   "cell_type": "code",
   "execution_count": 11,
   "metadata": {},
   "outputs": [
    {
     "name": "stdout",
     "output_type": "stream",
     "text": [
      "Parameters:  [ 0.51514159  0.4969669  -0.02146912  4.94652663]\n",
      "Std Errors:  [0.01823382 0.07046293 0.00160224 0.11822806]\n",
      "Pred Values:  [ 4.40979871  4.65607931  4.89655171  5.12732507  5.34483179  5.54597257\n",
      "  5.72824251  5.88983296  6.02970513  6.14763228  6.24420899  6.32082699\n",
      "  6.37961847  6.42336945  6.45540642  6.47946104  6.49951834  6.51965471\n",
      "  6.543872    6.57593482  6.6192174   6.67656634  6.75018483  6.84154306\n",
      "  6.95131838  7.07936779  7.22473375  7.38568311  7.55977761  7.74397305\n",
      "  7.93474311  8.12822281  8.32036563  8.50710821  8.68453551  8.84904013\n",
      "  8.99746899  9.12725159  9.23650458  9.32410833  9.38975249  9.43394861\n",
      "  9.45800932  9.46399498  9.45462981  9.43319116  9.40337616  9.36915136\n",
      "  9.3345914   9.30371328  9.28031295  9.26781096  9.26911329  9.28649319\n",
      "  9.32149869  9.37488965  9.44660685  9.5357744   9.64073539  9.75911921\n",
      "  9.88793806 10.02370842 10.16259276 10.30055559 10.43352766 10.55757141\n",
      " 10.66904116 10.76473139 10.84200709 10.89891098 10.9342431  10.94760958\n",
      " 10.93943874 10.91096358 10.86417171 10.80172445 10.7268486  10.64320521\n",
      " 10.55474064 10.4655261  10.37959201 10.30076407 10.23250771 10.17778706\n",
      " 10.13894445 10.11760512 10.1146111  10.12998699 10.16293892 10.21188689\n",
      " 10.27452899 10.34793506 10.42866584 10.51291288 10.59665344 10.67581408\n",
      " 10.74643639 10.80483797 10.84776218 10.87251064]\n",
      "R Squared 0.937935379999277\n"
     ]
    }
   ],
   "source": [
    "print(\"Parameters: \", res_2.params)\n",
    "print(\"Std Errors: \", res_2.bse)\n",
    "print(\"Pred Values: \", res_2.predict())\n",
    "print(\"R Squared\", res_2.rsquared)"
   ]
  },
  {
   "cell_type": "code",
   "execution_count": 33,
   "metadata": {},
   "outputs": [],
   "source": [
    "def plot_compare(res):\n",
    "    prstd, iv_1, iv_u = wls_prediction_std(res)\n",
    "    fig, ax = plt.subplots(figsize=(10,6))\n",
    "    \n",
    "    ax.plot(x, y, 'o', label = 'data')\n",
    "    ax.plot(x, y_true, 'b-', label=\"True\")\n",
    "    ax.plot(x, res.fittedvalues, 'r--', label=\"OLS\")\n",
    "    ax.plot(x, iv_u, 'g--', label=\"Error\")\n",
    "    ax.plot(x, iv_1, 'g--')\n",
    "    ax.legend(loc=\"best\")"
   ]
  },
  {
   "cell_type": "code",
   "execution_count": 34,
   "metadata": {},
   "outputs": [
    {
     "data": {
      "image/png": "[encoded data removed]",
      "text/plain": [
       "<Figure size 720x432 with 1 Axes>"
      ]
     },
     "metadata": {
      "needs_background": "light"
     },
     "output_type": "display_data"
    }
   ],
   "source": [
    "plot_compare(res_2)"
   ]
  },
  {
   "cell_type": "code",
   "execution_count": null,
   "metadata": {},
   "outputs": [],
   "source": []
  },
  {
   "cell_type": "code",
   "execution_count": null,
   "metadata": {},
   "outputs": [],
   "source": []
  }
 ],
 "metadata": {
  "kernelspec": {
   "display_name": "Python 3",
   "language": "python",
   "name": "python3"
  },
  "language_info": {
   "codemirror_mode": {
    "name": "ipython",
    "version": 3
   },
   "file_extension": ".py",
   "mimetype": "text/x-python",
   "name": "python",
   "nbconvert_exporter": "python",
   "pygments_lexer": "ipython3",
   "version": "3.9.1"
  }
 },
 "nbformat": 4,
 "nbformat_minor": 4
}
