{
 "cells": [
  {
   "cell_type": "markdown",
   "metadata": {},
   "source": [
    "# Broken Bar Chart"
   ]
  },
  {
   "cell_type": "code",
   "execution_count": 1,
   "metadata": {},
   "outputs": [],
   "source": [
    "import matplotlib.pyplot as plt"
   ]
  },
  {
   "cell_type": "code",
   "execution_count": 5,
   "metadata": {},
   "outputs": [],
   "source": [
    "team_1 = [(110, 30), (150, 10)]\n",
    "team_2 = [(10, 50), (100, 20), (130, 10)]"
   ]
  },
  {
   "cell_type": "code",
   "execution_count": 11,
   "metadata": {},
   "outputs": [
    {
     "data": {
      "image/png": "[encoded data removed]",
      "text/plain": [
       "<Figure size 432x288 with 1 Axes>"
      ]
     },
     "metadata": {
      "needs_background": "light"
     },
     "output_type": "display_data"
    }
   ],
   "source": [
    "fig, ax = plt.subplots()\n",
    "ax.broken_barh(team_1, (10,9), facecolors=\"tab:blue\")\n",
    "ax.broken_barh(team_2, (20,9), \n",
    "               facecolors=(\"tab:red\",\"tab:green\",\"tab:orange\"))\n",
    "ax.set_ylim(5,35)\n",
    "ax.set_xlim(0,200)\n",
    "ax.set_xlabel(\"Minutes from Start\")\n",
    "ax.set_yticks([15, 25])\n",
    "ax.set_yticklabels([\"Team 1\", \"Team 2\"])\n",
    "ax.grid(True)\n",
    "\n",
    "ax.annotate(\"Penalty\", (61, 25), textcoords=\"axes fraction\", \n",
    "            xytext=(0.8, 0.9),\n",
    "           arrowprops=dict(facecolor=\"black\",shrink=0.05),\n",
    "           fontsize=14, horizontalalignment=\"right\",\n",
    "           verticalalignment=\"top\");"
   ]
  },
  {
   "cell_type": "code",
   "execution_count": null,
   "metadata": {},
   "outputs": [],
   "source": []
  }
 ],
 "metadata": {
  "kernelspec": {
   "display_name": "Python 3",
   "language": "python",
   "name": "python3"
  },
  "language_info": {
   "codemirror_mode": {
    "name": "ipython",
    "version": 3
   },
   "file_extension": ".py",
   "mimetype": "text/x-python",
   "name": "python",
   "nbconvert_exporter": "python",
   "pygments_lexer": "ipython3",
   "version": "3.9.1"
  }
 },
 "nbformat": 4,
 "nbformat_minor": 4
}
