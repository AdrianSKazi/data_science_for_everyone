{
 "cells": [
  {
   "cell_type": "markdown",
   "metadata": {},
   "source": [
    "# Bar Chart Labels with Matplotlib"
   ]
  },
  {
   "cell_type": "code",
   "execution_count": 1,
   "metadata": {},
   "outputs": [],
   "source": [
    "import matplotlib.pyplot as plt\n",
    "import numpy as np\n",
    "%matplotlib inline"
   ]
  },
  {
   "cell_type": "code",
   "execution_count": 9,
   "metadata": {},
   "outputs": [],
   "source": [
    "# Define some data\n",
    "N = 5\n",
    "maleMean = (20, 40, 30, 45, -20)\n",
    "femaleMean = (25, 42, 44, 20, -34)\n",
    "maleStd = (2,3,1,5,3)\n",
    "femaleStd = (4,2,1,4,5)\n",
    "ind = np.arange(N)\n",
    "width = 0.4"
   ]
  },
  {
   "cell_type": "code",
   "execution_count": null,
   "metadata": {},
   "outputs": [],
   "source": [
    "!pip install --upgrade matplotlib"
   ]
  },
  {
   "cell_type": "code",
   "execution_count": 10,
   "metadata": {},
   "outputs": [
    {
     "data": {
      "image/png": "[encoded data removed]",
      "text/plain": [
       "<Figure size 432x288 with 1 Axes>"
      ]
     },
     "metadata": {
      "needs_background": "light"
     },
     "output_type": "display_data"
    }
   ],
   "source": [
    "# Stacked bar chart with errors\n",
    "fig, ax = plt.subplots()\n",
    "p1 = ax.bar(ind, maleMean, width, yerr=maleStd, label=\"Male\")\n",
    "p2 = ax.bar(ind, femaleMean, width, yerr=femaleStd, label=\"Female\")\n",
    "\n",
    "ax.axhline(0, color='grey', linewidth=0.8)\n",
    "ax.set_ylabel(\"Score\")\n",
    "ax.set_title(\"Scores by group and gender\")\n",
    "ax.set_xticks(ind)\n",
    "ax.set_xticklabels((\"G1\",\"G2\",\"G3\",\"G4\", \"G5\"))\n",
    "ax.legend()\n",
    "\n",
    "# Label with label types at the center.\n",
    "# Version v3.3.4\n",
    "# \n",
    "ax.bar_label(p1, label_type=\"center\")\n",
    "ax.bar_label(p2, label_type=\"center\")\n",
    "ax.bar_label(p2)\n",
    "plt.show()"
   ]
  },
  {
   "cell_type": "code",
   "execution_count": null,
   "metadata": {},
   "outputs": [],
   "source": []
  },
  {
   "cell_type": "code",
   "execution_count": null,
   "metadata": {},
   "outputs": [],
   "source": []
  },
  {
   "cell_type": "code",
   "execution_count": null,
   "metadata": {},
   "outputs": [],
   "source": []
  }
 ],
 "metadata": {
  "kernelspec": {
   "display_name": "Python 3",
   "language": "python",
   "name": "python3"
  },
  "language_info": {
   "codemirror_mode": {
    "name": "ipython",
    "version": 3
   },
   "file_extension": ".py",
   "mimetype": "text/x-python",
   "name": "python",
   "nbconvert_exporter": "python",
   "pygments_lexer": "ipython3",
   "version": "3.9.1"
  }
 },
 "nbformat": 4,
 "nbformat_minor": 4
}
