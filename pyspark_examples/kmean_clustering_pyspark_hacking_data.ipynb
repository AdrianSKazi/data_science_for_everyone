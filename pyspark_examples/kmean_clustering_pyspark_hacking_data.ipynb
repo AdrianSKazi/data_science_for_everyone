{
  "nbformat": 4,
  "nbformat_minor": 0,
  "metadata": {
    "colab": {
      "name": "kmean_clustering_pyspark_hacking_data.ipynb",
      "provenance": []
    },
    "kernelspec": {
      "name": "python3",
      "display_name": "Python 3"
    },
    "language_info": {
      "name": "python"
    }
  },
  "cells": [
    {
      "cell_type": "code",
      "metadata": {
        "id": "YXctX0cEQuIX"
      },
      "source": [
        "# Takes some time 3-5 minutes\n",
        "!apt-get install openjdk-8-jdk-headless -qq > /dev/null\n",
        "!wget -q https://dlcdn.apache.org/spark/spark-3.1.2/spark-3.1.2-bin-hadoop3.2.tgz\n",
        "!tar xf spark-3.1.2-bin-hadoop3.2.tgz\n",
        "!pip install -q findspark\n",
        "import os\n",
        "import findspark\n",
        "os.environ[\"JAVA_HOME\"] = \"/usr/lib/jvm/java-8-openjdk-amd64\"\n",
        "os.environ[\"SPARK_HOME\"] = \"/content/spark-3.1.2-bin-hadoop3.2\"\n",
        "findspark.init()"
      ],
      "execution_count": null,
      "outputs": []
    },
    {
      "cell_type": "code",
      "metadata": {
        "id": "zEcARX8LRwLi"
      },
      "source": [
        "from pyspark.sql import SparkSession"
      ],
      "execution_count": null,
      "outputs": []
    },
    {
      "cell_type": "code",
      "metadata": {
        "id": "CRzShXx3SCFo"
      },
      "source": [
        "spark = SparkSession.builder.appName(\"num_of_hackers\").getOrCreate()"
      ],
      "execution_count": null,
      "outputs": []
    },
    {
      "cell_type": "code",
      "metadata": {
        "id": "L3bnGk_zSHr6"
      },
      "source": [
        "df = spark.read.csv(\"hack_data.csv\", header=True, inferSchema=True)"
      ],
      "execution_count": null,
      "outputs": []
    },
    {
      "cell_type": "code",
      "metadata": {
        "colab": {
          "base_uri": "https://localhost:8080/"
        },
        "id": "XDcwz51ASPAB",
        "outputId": "69b2ce37-ec69-4088-8cf6-995cd8fe869d"
      },
      "source": [
        "df.show(2)"
      ],
      "execution_count": null,
      "outputs": [
        {
          "output_type": "stream",
          "name": "stdout",
          "text": [
            "+-----------------------+-----------------+---------------+-----------------+---------------+--------------------+----------------+\n",
            "|Session_Connection_Time|Bytes Transferred|Kali_Trace_Used|Servers_Corrupted|Pages_Corrupted|            Location|WPM_Typing_Speed|\n",
            "+-----------------------+-----------------+---------------+-----------------+---------------+--------------------+----------------+\n",
            "|                    8.0|           391.09|              1|             2.96|            7.0|            Slovenia|           72.37|\n",
            "|                   20.0|           720.99|              0|             3.04|            9.0|British Virgin Is...|           69.08|\n",
            "+-----------------------+-----------------+---------------+-----------------+---------------+--------------------+----------------+\n",
            "only showing top 2 rows\n",
            "\n"
          ]
        }
      ]
    },
    {
      "cell_type": "code",
      "metadata": {
        "colab": {
          "base_uri": "https://localhost:8080/",
          "height": 240
        },
        "id": "pptJkQQKSS3_",
        "outputId": "b9b245da-0f2b-4cb9-9cfa-60162b25cc5e"
      },
      "source": [
        "round(df.describe().toPandas(), 2)"
      ],
      "execution_count": null,
      "outputs": [
        {
          "output_type": "execute_result",
          "data": {
            "text/html": [
              "<div>\n",
              "<style scoped>\n",
              "    .dataframe tbody tr th:only-of-type {\n",
              "        vertical-align: middle;\n",
              "    }\n",
              "\n",
              "    .dataframe tbody tr th {\n",
              "        vertical-align: top;\n",
              "    }\n",
              "\n",
              "    .dataframe thead th {\n",
              "        text-align: right;\n",
              "    }\n",
              "</style>\n",
              "<table border=\"1\" class=\"dataframe\">\n",
              "  <thead>\n",
              "    <tr style=\"text-align: right;\">\n",
              "      <th></th>\n",
              "      <th>summary</th>\n",
              "      <th>Session_Connection_Time</th>\n",
              "      <th>Bytes Transferred</th>\n",
              "      <th>Kali_Trace_Used</th>\n",
              "      <th>Servers_Corrupted</th>\n",
              "      <th>Pages_Corrupted</th>\n",
              "      <th>Location</th>\n",
              "      <th>WPM_Typing_Speed</th>\n",
              "    </tr>\n",
              "  </thead>\n",
              "  <tbody>\n",
              "    <tr>\n",
              "      <th>0</th>\n",
              "      <td>count</td>\n",
              "      <td>334</td>\n",
              "      <td>334</td>\n",
              "      <td>334</td>\n",
              "      <td>334</td>\n",
              "      <td>334</td>\n",
              "      <td>334</td>\n",
              "      <td>334</td>\n",
              "    </tr>\n",
              "    <tr>\n",
              "      <th>1</th>\n",
              "      <td>mean</td>\n",
              "      <td>30.008982035928145</td>\n",
              "      <td>607.2452694610777</td>\n",
              "      <td>0.5119760479041916</td>\n",
              "      <td>5.258502994011977</td>\n",
              "      <td>10.838323353293413</td>\n",
              "      <td>None</td>\n",
              "      <td>57.342395209580864</td>\n",
              "    </tr>\n",
              "    <tr>\n",
              "      <th>2</th>\n",
              "      <td>stddev</td>\n",
              "      <td>14.088200614636158</td>\n",
              "      <td>286.33593163576757</td>\n",
              "      <td>0.5006065264451406</td>\n",
              "      <td>2.30190693339697</td>\n",
              "      <td>3.06352633036022</td>\n",
              "      <td>None</td>\n",
              "      <td>13.41106336843464</td>\n",
              "    </tr>\n",
              "    <tr>\n",
              "      <th>3</th>\n",
              "      <td>min</td>\n",
              "      <td>1.0</td>\n",
              "      <td>10.0</td>\n",
              "      <td>0</td>\n",
              "      <td>1.0</td>\n",
              "      <td>6.0</td>\n",
              "      <td>Afghanistan</td>\n",
              "      <td>40.0</td>\n",
              "    </tr>\n",
              "    <tr>\n",
              "      <th>4</th>\n",
              "      <td>max</td>\n",
              "      <td>60.0</td>\n",
              "      <td>1330.5</td>\n",
              "      <td>1</td>\n",
              "      <td>10.0</td>\n",
              "      <td>15.0</td>\n",
              "      <td>Zimbabwe</td>\n",
              "      <td>75.0</td>\n",
              "    </tr>\n",
              "  </tbody>\n",
              "</table>\n",
              "</div>"
            ],
            "text/plain": [
              "  summary Session_Connection_Time  ...     Location    WPM_Typing_Speed\n",
              "0   count                     334  ...          334                 334\n",
              "1    mean      30.008982035928145  ...         None  57.342395209580864\n",
              "2  stddev      14.088200614636158  ...         None   13.41106336843464\n",
              "3     min                     1.0  ...  Afghanistan                40.0\n",
              "4     max                    60.0  ...     Zimbabwe                75.0\n",
              "\n",
              "[5 rows x 8 columns]"
            ]
          },
          "metadata": {},
          "execution_count": 9
        }
      ]
    },
    {
      "cell_type": "code",
      "metadata": {
        "id": "foP_dVMeSZfB"
      },
      "source": [
        "from pyspark.ml.linalg import Vectors\n",
        "from pyspark.ml.feature import VectorAssembler"
      ],
      "execution_count": null,
      "outputs": []
    },
    {
      "cell_type": "code",
      "metadata": {
        "colab": {
          "base_uri": "https://localhost:8080/"
        },
        "id": "TB_-KaRLStxf",
        "outputId": "54f0ab4f-e814-4854-a2fc-19b19570c6b5"
      },
      "source": [
        "df.columns"
      ],
      "execution_count": null,
      "outputs": [
        {
          "output_type": "execute_result",
          "data": {
            "text/plain": [
              "['Session_Connection_Time',\n",
              " 'Bytes Transferred',\n",
              " 'Kali_Trace_Used',\n",
              " 'Servers_Corrupted',\n",
              " 'Pages_Corrupted',\n",
              " 'Location',\n",
              " 'WPM_Typing_Speed']"
            ]
          },
          "metadata": {},
          "execution_count": 11
        }
      ]
    },
    {
      "cell_type": "code",
      "metadata": {
        "id": "bhKT3L2jSwCS"
      },
      "source": [
        "feat_cols = ['Session_Connection_Time',\n",
        " 'Bytes Transferred',\n",
        " 'Kali_Trace_Used',\n",
        " 'Servers_Corrupted',\n",
        " 'Pages_Corrupted',\n",
        " 'WPM_Typing_Speed']"
      ],
      "execution_count": null,
      "outputs": []
    },
    {
      "cell_type": "code",
      "metadata": {
        "id": "C9CdFaaZS0pm"
      },
      "source": [
        "assembler = VectorAssembler(inputCols=feat_cols, outputCol='features')"
      ],
      "execution_count": null,
      "outputs": []
    },
    {
      "cell_type": "code",
      "metadata": {
        "id": "4nmV9-YUS5oN"
      },
      "source": [
        "final_df = assembler.transform(df)"
      ],
      "execution_count": null,
      "outputs": []
    },
    {
      "cell_type": "code",
      "metadata": {
        "id": "OOt2lG0_S9H9"
      },
      "source": [
        "from pyspark.ml.feature import StandardScaler"
      ],
      "execution_count": null,
      "outputs": []
    },
    {
      "cell_type": "code",
      "metadata": {
        "id": "_VRieMVeTEF_"
      },
      "source": [
        "scaler = StandardScaler(inputCol='features', \n",
        "                        outputCol='scaled_feat',\n",
        "                        withStd = True,\n",
        "                        withMean = False)"
      ],
      "execution_count": null,
      "outputs": []
    },
    {
      "cell_type": "code",
      "metadata": {
        "id": "JUb1fkh9TPwQ"
      },
      "source": [
        "scaled_model = scaler.fit(final_df)"
      ],
      "execution_count": null,
      "outputs": []
    },
    {
      "cell_type": "code",
      "metadata": {
        "id": "2wbR8VwQTWNh"
      },
      "source": [
        "cluster_df = scaled_model.transform(final_df)"
      ],
      "execution_count": null,
      "outputs": []
    },
    {
      "cell_type": "code",
      "metadata": {
        "id": "M9TwASEfTcQf"
      },
      "source": [
        "from pyspark.ml.clustering import KMeans\n",
        "from pyspark.ml.evaluation import ClusteringEvaluator"
      ],
      "execution_count": null,
      "outputs": []
    },
    {
      "cell_type": "code",
      "metadata": {
        "id": "kURhp5x0Tiwn"
      },
      "source": [
        "eval = ClusteringEvaluator(predictionCol=\"prediction\",\n",
        "                           featuresCol=\"scaled_feat\",\n",
        "                           metricName=\"silhouette\",\n",
        "                           distanceMeasure=\"squaredEuclidean\")"
      ],
      "execution_count": null,
      "outputs": []
    },
    {
      "cell_type": "code",
      "metadata": {
        "colab": {
          "base_uri": "https://localhost:8080/"
        },
        "id": "keIi0Fe-T-lr",
        "outputId": "37e8548f-a9a1-4f79-f36d-1aa4e49cef13"
      },
      "source": [
        "silhouette_score = []\n",
        "print(\"\"\"\n",
        "Silhoutte Scores for K Mean Clustering\n",
        "======================================\n",
        "Model\\tScore\\t\n",
        "=====\\t=====\\t\n",
        "\"\"\")\n",
        "for k in range(2,11):\n",
        "  kmeans_algo = KMeans(featuresCol='scaled_feat',k=k)\n",
        "  kmeans_fit = kmeans_algo.fit(cluster_df)\n",
        "  output = kmeans_fit.transform(cluster_df)\n",
        "  score = eval.evaluate(output)\n",
        "  silhouette_score.append(score)\n",
        "  print(f\"K{k}\\t{round(score,2)}\\t\")\n"
      ],
      "execution_count": null,
      "outputs": [
        {
          "output_type": "stream",
          "name": "stdout",
          "text": [
            "\n",
            "Silhoutte Scores for K Mean Clustering\n",
            "======================================\n",
            "Model\tScore\t\n",
            "=====\t=====\t\n",
            "\n",
            "K2\t0.82\t\n",
            "K3\t0.76\t\n",
            "K4\t0.72\t\n",
            "K5\t0.66\t\n",
            "K6\t0.56\t\n",
            "K7\t0.49\t\n",
            "K8\t0.47\t\n",
            "K9\t0.4\t\n",
            "K10\t0.4\t\n"
          ]
        }
      ]
    },
    {
      "cell_type": "code",
      "metadata": {
        "colab": {
          "base_uri": "https://localhost:8080/",
          "height": 606
        },
        "id": "7bAzw9HVU5wt",
        "outputId": "a2317fcf-11f5-4f2e-d974-a9f0c056e85a"
      },
      "source": [
        "import matplotlib.pyplot as plt\n",
        "fig, ax = plt.subplots(1, 1, figsize=(10,10))\n",
        "ax.plot(range(2,11), silhouette_score)\n",
        "ax.set_xlabel(\"K\")\n",
        "ax.set_ylabel(\"Score\");"
      ],
      "execution_count": null,
      "outputs": [
        {
          "output_type": "display_data",
          "data": {
            "image/png": "[encoded data removed]",
            "text/plain": [
              "<Figure size 720x720 with 1 Axes>"
            ]
          },
          "metadata": {
            "needs_background": "light"
          }
        }
      ]
    },
    {
      "cell_type": "code",
      "metadata": {
        "id": "BDvfeV0rVUeY"
      },
      "source": [
        ""
      ],
      "execution_count": null,
      "outputs": []
    }
  ]
}