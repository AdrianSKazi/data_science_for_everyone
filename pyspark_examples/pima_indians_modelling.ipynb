{
  "nbformat": 4,
  "nbformat_minor": 0,
  "metadata": {
    "colab": {
      "name": "pima_indians_modelling.ipynb",
      "provenance": [],
      "collapsed_sections": []
    },
    "kernelspec": {
      "name": "python3",
      "display_name": "Python 3"
    },
    "language_info": {
      "name": "python"
    }
  },
  "cells": [
    {
      "cell_type": "markdown",
      "metadata": {
        "id": "2vtHVDaTioe0"
      },
      "source": [
        "# Pima Indians Diabetes Database\n",
        "\n",
        "Goal: Predict the onset of diabetes based on diagnostic measures\n",
        "\n",
        "This dataset is originally from the National Institute of Diabetes and Digestive and Kidney Diseases. The objective of the dataset is to diagnostically predict whether or not a patient has diabetes, based on certain diagnostic measurements included in the dataset. Several constraints were placed on the selection of these instances from a larger database. In particular, all patients here are females at least 21 years old of Pima Indian heritage.\n",
        "\n",
        "The data can be found at the [UCI Machine Learning Repository](https://archive.ics.uci.edu/ml/datasets/Diabetes)."
      ]
    },
    {
      "cell_type": "code",
      "metadata": {
        "id": "E9MRjPjThrSf"
      },
      "source": [
        "# Takes some time 3-5 minutes\n",
        "!apt-get install openjdk-8-jdk-headless -qq > /dev/null\n",
        "!wget -q https://dlcdn.apache.org/spark/spark-3.1.2/spark-3.1.2-bin-hadoop3.2.tgz\n",
        "!tar xf spark-3.1.2-bin-hadoop3.2.tgz\n",
        "!pip install -q findspark\n",
        "import os\n",
        "import findspark\n",
        "os.environ[\"JAVA_HOME\"] = \"/usr/lib/jvm/java-8-openjdk-amd64\"\n",
        "os.environ[\"SPARK_HOME\"] = \"/content/spark-3.1.2-bin-hadoop3.2\"\n",
        "findspark.init()"
      ],
      "execution_count": null,
      "outputs": []
    },
    {
      "cell_type": "code",
      "metadata": {
        "id": "S6JrBM_Phr_5"
      },
      "source": [
        "from pyspark.sql import SparkSession\n",
        "spark = SparkSession.builder.appName(\"diabetes_logistic\").getOrCreate()"
      ],
      "execution_count": null,
      "outputs": []
    },
    {
      "cell_type": "code",
      "metadata": {
        "id": "d29Kb67FiLfH"
      },
      "source": [
        "df = spark.read.csv(\"/content/diabetes.csv\", inferSchema=True, header=True)"
      ],
      "execution_count": null,
      "outputs": []
    },
    {
      "cell_type": "code",
      "metadata": {
        "colab": {
          "base_uri": "https://localhost:8080/"
        },
        "id": "lC0L7R9jiTG7",
        "outputId": "5e9fbe44-6e87-4181-8d05-662d5f3133dd"
      },
      "source": [
        "print(f\"There are {df.count()} rows and {len(df.columns)} columns in the dataset.\")"
      ],
      "execution_count": null,
      "outputs": [
        {
          "output_type": "stream",
          "name": "stdout",
          "text": [
            "There are 768 rows and 9 columns in the dataset.\n"
          ]
        }
      ]
    },
    {
      "cell_type": "code",
      "metadata": {
        "colab": {
          "base_uri": "https://localhost:8080/"
        },
        "id": "hxIP1APoj5en",
        "outputId": "56892968-5152-4cdf-82d5-c27545f747ba"
      },
      "source": [
        "df.show(2)"
      ],
      "execution_count": null,
      "outputs": [
        {
          "output_type": "stream",
          "name": "stdout",
          "text": [
            "+-----------+-------+-------------+-------------+-------+----+------------------------+---+-------+\n",
            "|Pregnancies|Glucose|BloodPressure|SkinThickness|Insulin| BMI|DiabetesPedigreeFunction|Age|Outcome|\n",
            "+-----------+-------+-------------+-------------+-------+----+------------------------+---+-------+\n",
            "|          6|    148|           72|           35|      0|33.6|                   0.627| 50|      1|\n",
            "|          1|     85|           66|           29|      0|26.6|                   0.351| 31|      0|\n",
            "+-----------+-------+-------------+-------------+-------+----+------------------------+---+-------+\n",
            "only showing top 2 rows\n",
            "\n"
          ]
        }
      ]
    },
    {
      "cell_type": "code",
      "metadata": {
        "colab": {
          "base_uri": "https://localhost:8080/"
        },
        "id": "SEBpy033md5J",
        "outputId": "e131be6a-53a2-4364-8f23-84c7cc9993eb"
      },
      "source": [
        "df.printSchema()"
      ],
      "execution_count": null,
      "outputs": [
        {
          "output_type": "stream",
          "name": "stdout",
          "text": [
            "root\n",
            " |-- Pregnancies: integer (nullable = true)\n",
            " |-- Glucose: integer (nullable = true)\n",
            " |-- BloodPressure: integer (nullable = true)\n",
            " |-- SkinThickness: integer (nullable = true)\n",
            " |-- Insulin: integer (nullable = true)\n",
            " |-- BMI: double (nullable = true)\n",
            " |-- DiabetesPedigreeFunction: double (nullable = true)\n",
            " |-- Age: integer (nullable = true)\n",
            " |-- Outcome: integer (nullable = true)\n",
            "\n"
          ]
        }
      ]
    },
    {
      "cell_type": "code",
      "metadata": {
        "colab": {
          "base_uri": "https://localhost:8080/",
          "height": 357
        },
        "id": "GqIZo-69mlTR",
        "outputId": "2fd59a1e-d1f0-4ed6-80f4-2cbb628e7a1e"
      },
      "source": [
        "df.describe().toPandas().T"
      ],
      "execution_count": null,
      "outputs": [
        {
          "output_type": "execute_result",
          "data": {
            "text/html": [
              "<div>\n",
              "<style scoped>\n",
              "    .dataframe tbody tr th:only-of-type {\n",
              "        vertical-align: middle;\n",
              "    }\n",
              "\n",
              "    .dataframe tbody tr th {\n",
              "        vertical-align: top;\n",
              "    }\n",
              "\n",
              "    .dataframe thead th {\n",
              "        text-align: right;\n",
              "    }\n",
              "</style>\n",
              "<table border=\"1\" class=\"dataframe\">\n",
              "  <thead>\n",
              "    <tr style=\"text-align: right;\">\n",
              "      <th></th>\n",
              "      <th>0</th>\n",
              "      <th>1</th>\n",
              "      <th>2</th>\n",
              "      <th>3</th>\n",
              "      <th>4</th>\n",
              "    </tr>\n",
              "  </thead>\n",
              "  <tbody>\n",
              "    <tr>\n",
              "      <th>summary</th>\n",
              "      <td>count</td>\n",
              "      <td>mean</td>\n",
              "      <td>stddev</td>\n",
              "      <td>min</td>\n",
              "      <td>max</td>\n",
              "    </tr>\n",
              "    <tr>\n",
              "      <th>Pregnancies</th>\n",
              "      <td>768</td>\n",
              "      <td>3.8450520833333335</td>\n",
              "      <td>3.36957806269887</td>\n",
              "      <td>0</td>\n",
              "      <td>17</td>\n",
              "    </tr>\n",
              "    <tr>\n",
              "      <th>Glucose</th>\n",
              "      <td>768</td>\n",
              "      <td>120.89453125</td>\n",
              "      <td>31.97261819513622</td>\n",
              "      <td>0</td>\n",
              "      <td>199</td>\n",
              "    </tr>\n",
              "    <tr>\n",
              "      <th>BloodPressure</th>\n",
              "      <td>768</td>\n",
              "      <td>69.10546875</td>\n",
              "      <td>19.355807170644777</td>\n",
              "      <td>0</td>\n",
              "      <td>122</td>\n",
              "    </tr>\n",
              "    <tr>\n",
              "      <th>SkinThickness</th>\n",
              "      <td>768</td>\n",
              "      <td>20.536458333333332</td>\n",
              "      <td>15.952217567727642</td>\n",
              "      <td>0</td>\n",
              "      <td>99</td>\n",
              "    </tr>\n",
              "    <tr>\n",
              "      <th>Insulin</th>\n",
              "      <td>768</td>\n",
              "      <td>79.79947916666667</td>\n",
              "      <td>115.24400235133803</td>\n",
              "      <td>0</td>\n",
              "      <td>846</td>\n",
              "    </tr>\n",
              "    <tr>\n",
              "      <th>BMI</th>\n",
              "      <td>768</td>\n",
              "      <td>31.992578124999977</td>\n",
              "      <td>7.884160320375441</td>\n",
              "      <td>0.0</td>\n",
              "      <td>67.1</td>\n",
              "    </tr>\n",
              "    <tr>\n",
              "      <th>DiabetesPedigreeFunction</th>\n",
              "      <td>768</td>\n",
              "      <td>0.4718763020833327</td>\n",
              "      <td>0.331328595012775</td>\n",
              "      <td>0.078</td>\n",
              "      <td>2.42</td>\n",
              "    </tr>\n",
              "    <tr>\n",
              "      <th>Age</th>\n",
              "      <td>768</td>\n",
              "      <td>33.240885416666664</td>\n",
              "      <td>11.760231540678689</td>\n",
              "      <td>21</td>\n",
              "      <td>81</td>\n",
              "    </tr>\n",
              "    <tr>\n",
              "      <th>Outcome</th>\n",
              "      <td>768</td>\n",
              "      <td>0.3489583333333333</td>\n",
              "      <td>0.476951377242799</td>\n",
              "      <td>0</td>\n",
              "      <td>1</td>\n",
              "    </tr>\n",
              "  </tbody>\n",
              "</table>\n",
              "</div>"
            ],
            "text/plain": [
              "                              0                   1  ...      3     4\n",
              "summary                   count                mean  ...    min   max\n",
              "Pregnancies                 768  3.8450520833333335  ...      0    17\n",
              "Glucose                     768        120.89453125  ...      0   199\n",
              "BloodPressure               768         69.10546875  ...      0   122\n",
              "SkinThickness               768  20.536458333333332  ...      0    99\n",
              "Insulin                     768   79.79947916666667  ...      0   846\n",
              "BMI                         768  31.992578124999977  ...    0.0  67.1\n",
              "DiabetesPedigreeFunction    768  0.4718763020833327  ...  0.078  2.42\n",
              "Age                         768  33.240885416666664  ...     21    81\n",
              "Outcome                     768  0.3489583333333333  ...      0     1\n",
              "\n",
              "[10 rows x 5 columns]"
            ]
          },
          "metadata": {},
          "execution_count": 7
        }
      ]
    },
    {
      "cell_type": "code",
      "metadata": {
        "colab": {
          "base_uri": "https://localhost:8080/"
        },
        "id": "91XdMmbjm1jx",
        "outputId": "4503a69b-83ec-40bd-b72f-1e24d2109941"
      },
      "source": [
        "df.groupby(\"Outcome\").count().show()"
      ],
      "execution_count": null,
      "outputs": [
        {
          "output_type": "stream",
          "name": "stdout",
          "text": [
            "+-------+-----+\n",
            "|Outcome|count|\n",
            "+-------+-----+\n",
            "|      1|  268|\n",
            "|      0|  500|\n",
            "+-------+-----+\n",
            "\n"
          ]
        }
      ]
    },
    {
      "cell_type": "code",
      "metadata": {
        "id": "BY9t7RLlnLro"
      },
      "source": [
        "import matplotlib.pyplot as plt"
      ],
      "execution_count": null,
      "outputs": []
    },
    {
      "cell_type": "code",
      "metadata": {
        "colab": {
          "base_uri": "https://localhost:8080/",
          "height": 623
        },
        "id": "JztGIAUNnbfA",
        "outputId": "787463a7-3ba7-4d9c-cbda-0e30e8e1fec2"
      },
      "source": [
        "fig = plt.figure(figsize=(25, 15))\n",
        "st = fig.suptitle(\"Distribution of Features\", fontsize=50, verticalalignment=\"center\")\n",
        "\n",
        "for col, num in zip(df.toPandas().describe().columns, range(1,11)):\n",
        "  ax = fig.add_subplot(3, 4, num)\n",
        "  ax.hist(df.toPandas()[col])\n",
        "  plt.grid(False)\n",
        "  plt.xticks(rotation=45, fontsize=20)\n",
        "  plt.yticks(fontsize=15)\n",
        "  plt.title(col.upper(), fontsize=20)\n",
        "\n",
        "plt.tight_layout()\n",
        "st.set_y(0.95)\n",
        "fig.subplots_adjust(top=0.85, hspace=0.4)\n",
        "plt.show()"
      ],
      "execution_count": null,
      "outputs": [
        {
          "output_type": "display_data",
          "data": {
            "image/png": "[encoded data removed]",
            "text/plain": [
              "<Figure size 1800x1080 with 9 Axes>"
            ]
          },
          "metadata": {
            "needs_background": "light"
          }
        }
      ]
    },
    {
      "cell_type": "code",
      "metadata": {
        "id": "mqBr1SVaoSNg"
      },
      "source": [
        "from pyspark.sql.functions import isnan, when, count, col"
      ],
      "execution_count": null,
      "outputs": []
    },
    {
      "cell_type": "code",
      "metadata": {
        "id": "wBeB40LYo_Fs",
        "colab": {
          "base_uri": "https://localhost:8080/",
          "height": 80
        },
        "outputId": "13b6d8e3-238a-498c-b0de-101924af9916"
      },
      "source": [
        "df.select([count(when(isnan(c), c)).alias(c) for c in df.columns]).toPandas().head()"
      ],
      "execution_count": null,
      "outputs": [
        {
          "output_type": "execute_result",
          "data": {
            "text/html": [
              "<div>\n",
              "<style scoped>\n",
              "    .dataframe tbody tr th:only-of-type {\n",
              "        vertical-align: middle;\n",
              "    }\n",
              "\n",
              "    .dataframe tbody tr th {\n",
              "        vertical-align: top;\n",
              "    }\n",
              "\n",
              "    .dataframe thead th {\n",
              "        text-align: right;\n",
              "    }\n",
              "</style>\n",
              "<table border=\"1\" class=\"dataframe\">\n",
              "  <thead>\n",
              "    <tr style=\"text-align: right;\">\n",
              "      <th></th>\n",
              "      <th>Pregnancies</th>\n",
              "      <th>Glucose</th>\n",
              "      <th>BloodPressure</th>\n",
              "      <th>SkinThickness</th>\n",
              "      <th>Insulin</th>\n",
              "      <th>BMI</th>\n",
              "      <th>DiabetesPedigreeFunction</th>\n",
              "      <th>Age</th>\n",
              "      <th>Outcome</th>\n",
              "    </tr>\n",
              "  </thead>\n",
              "  <tbody>\n",
              "    <tr>\n",
              "      <th>0</th>\n",
              "      <td>0</td>\n",
              "      <td>0</td>\n",
              "      <td>0</td>\n",
              "      <td>0</td>\n",
              "      <td>0</td>\n",
              "      <td>0</td>\n",
              "      <td>0</td>\n",
              "      <td>0</td>\n",
              "      <td>0</td>\n",
              "    </tr>\n",
              "  </tbody>\n",
              "</table>\n",
              "</div>"
            ],
            "text/plain": [
              "   Pregnancies  Glucose  BloodPressure  ...  DiabetesPedigreeFunction  Age  Outcome\n",
              "0            0        0              0  ...                         0    0        0\n",
              "\n",
              "[1 rows x 9 columns]"
            ]
          },
          "metadata": {},
          "execution_count": 12
        }
      ]
    },
    {
      "cell_type": "markdown",
      "metadata": {
        "id": "K-TvOEsJptRh"
      },
      "source": [
        "## User Defined Functions (UDF)"
      ]
    },
    {
      "cell_type": "code",
      "metadata": {
        "id": "T1LGFUUspmik"
      },
      "source": [
        "from pyspark.sql.functions import udf\n",
        "from pyspark.sql.types import StringType"
      ],
      "execution_count": null,
      "outputs": []
    },
    {
      "cell_type": "code",
      "metadata": {
        "id": "MGcMJVCYp5OU"
      },
      "source": [
        "y_udf = udf(lambda y: \"no\" if y==0 else \"yes\", StringType())"
      ],
      "execution_count": null,
      "outputs": []
    },
    {
      "cell_type": "code",
      "metadata": {
        "id": "7n5D_ROAqBtJ"
      },
      "source": [
        "df = df.withColumn(\"HasDiabetes\", y_udf('Outcome')).drop(\"Outcome\")"
      ],
      "execution_count": null,
      "outputs": []
    },
    {
      "cell_type": "code",
      "metadata": {
        "colab": {
          "base_uri": "https://localhost:8080/"
        },
        "id": "FOYmyKuuqnZd",
        "outputId": "55112c6f-0bbe-4b76-ae2b-0bffc0d67858"
      },
      "source": [
        "df.show(2)"
      ],
      "execution_count": null,
      "outputs": [
        {
          "output_type": "stream",
          "name": "stdout",
          "text": [
            "+-----------+-------+-------------+-------------+-------+----+------------------------+---+-----------+\n",
            "|Pregnancies|Glucose|BloodPressure|SkinThickness|Insulin| BMI|DiabetesPedigreeFunction|Age|HasDiabetes|\n",
            "+-----------+-------+-------------+-------------+-------+----+------------------------+---+-----------+\n",
            "|          6|    148|           72|           35|      0|33.6|                   0.627| 50|        yes|\n",
            "|          1|     85|           66|           29|      0|26.6|                   0.351| 31|         no|\n",
            "+-----------+-------+-------------+-------------+-------+----+------------------------+---+-----------+\n",
            "only showing top 2 rows\n",
            "\n"
          ]
        }
      ]
    },
    {
      "cell_type": "code",
      "metadata": {
        "id": "MbKhWB2uqoos"
      },
      "source": [
        "def udf_multiple(age):\n",
        "  if (age<=25):\n",
        "    return \"Under 25\"\n",
        "  elif (age >=25 and age <= 35):\n",
        "    return \"Between 25 and 35\"\n",
        "  elif (age > 35 and age < 50):\n",
        "    return \"Between 36 and 50\"\n",
        "  elif (age >= 50):\n",
        "    return \"Over 50\"\n",
        "  else: return \"NA\""
      ],
      "execution_count": null,
      "outputs": []
    },
    {
      "cell_type": "code",
      "metadata": {
        "id": "k-mjG7mmrL2M"
      },
      "source": [
        "age_udf = udf(udf_multiple)\n",
        "df = df.withColumn('age_udf', age_udf('Age'))"
      ],
      "execution_count": null,
      "outputs": []
    },
    {
      "cell_type": "code",
      "metadata": {
        "colab": {
          "base_uri": "https://localhost:8080/"
        },
        "id": "d4B7EFXZrYvE",
        "outputId": "b0863af8-f4c2-475b-edc4-b99d27e241f7"
      },
      "source": [
        "df.show(2)"
      ],
      "execution_count": null,
      "outputs": [
        {
          "output_type": "stream",
          "name": "stdout",
          "text": [
            "+-----------+-------+-------------+-------------+-------+----+------------------------+---+-----------+-----------------+\n",
            "|Pregnancies|Glucose|BloodPressure|SkinThickness|Insulin| BMI|DiabetesPedigreeFunction|Age|HasDiabetes|          age_udf|\n",
            "+-----------+-------+-------------+-------------+-------+----+------------------------+---+-----------+-----------------+\n",
            "|          6|    148|           72|           35|      0|33.6|                   0.627| 50|        yes|          Over 50|\n",
            "|          1|     85|           66|           29|      0|26.6|                   0.351| 31|         no|Between 25 and 35|\n",
            "+-----------+-------+-------------+-------------+-------+----+------------------------+---+-----------+-----------------+\n",
            "only showing top 2 rows\n",
            "\n"
          ]
        }
      ]
    },
    {
      "cell_type": "code",
      "metadata": {
        "id": "670Jp6qnrj7q"
      },
      "source": [
        "from pyspark.sql import functions as F \n",
        "from pyspark.sql.functions import rank, sum, col, desc\n",
        "from pyspark.sql import Window"
      ],
      "execution_count": null,
      "outputs": []
    },
    {
      "cell_type": "code",
      "metadata": {
        "id": "JXWu6P6tsPvJ"
      },
      "source": [
        "window = Window.rowsBetween(Window.unboundedPreceding, Window.unboundedFollowing)\n",
        "tab = df.select(['age_udf', 'Glucose']).\\\n",
        "    groupBy('age_udf').\\\n",
        "        agg(\n",
        "            F.count('Glucose').alias('UserCount'),\n",
        "            F.mean('Glucose').alias('Glucose_AVG'),\n",
        "            F.min('Glucose').alias('Glucose_MIN'),\n",
        "            F.max('Glucose').alias('Glucose_MAX')).\\\n",
        "        withColumn('total', sum(col('UserCount')).over(window)).\\\n",
        "        withColumn('Percent', col('UserCount')*100 / col('total')).\\\n",
        "        drop(col('total')).sort(desc('Percent'))"
      ],
      "execution_count": null,
      "outputs": []
    },
    {
      "cell_type": "code",
      "metadata": {
        "colab": {
          "base_uri": "https://localhost:8080/"
        },
        "id": "s9x93IqUtSl-",
        "outputId": "60d44a3e-473d-4bb9-d879-55d59d703cea"
      },
      "source": [
        "tab.show()"
      ],
      "execution_count": null,
      "outputs": [
        {
          "output_type": "stream",
          "name": "stdout",
          "text": [
            "+-----------------+---------+------------------+-----------+-----------+------------------+\n",
            "|          age_udf|UserCount|       Glucose_AVG|Glucose_MIN|Glucose_MAX|           Percent|\n",
            "+-----------------+---------+------------------+-----------+-----------+------------------+\n",
            "|         Under 25|      267|110.71910112359551|          0|        199|         34.765625|\n",
            "|Between 25 and 35|      231|121.67099567099567|         71|        198|         30.078125|\n",
            "|Between 36 and 50|      181|125.74033149171271|          0|        197|23.567708333333332|\n",
            "|          Over 50|       89| 139.5505617977528|         57|        197|11.588541666666666|\n",
            "+-----------------+---------+------------------+-----------+-----------+------------------+\n",
            "\n"
          ]
        }
      ]
    },
    {
      "cell_type": "code",
      "metadata": {
        "colab": {
          "base_uri": "https://localhost:8080/",
          "height": 466
        },
        "id": "KgKS1oT8tfGR",
        "outputId": "64c2dce2-f852-42d3-8eaa-ff7401e58fbd"
      },
      "source": [
        "labels = list(tab.select('age_udf').distinct().toPandas()['age_udf'])\n",
        "sizes = list(tab.select('Percent').distinct().toPandas()['Percent'])\n",
        "colors = ['gold','yellowgreen','lightcoral','blue','lightskyblue','green','red']\n",
        "explode = (0.1, 0.0, 0.0, 0.0)\n",
        "\n",
        "plt.figure(figsize=(10,8))\n",
        "plt.pie(sizes, explode=explode, labels=labels, colors=colors, autopct='%1.1f%%', \n",
        "        shadow=True, startangle=140)\n",
        "plt.axis('equal')\n",
        "plt.show()"
      ],
      "execution_count": null,
      "outputs": [
        {
          "output_type": "display_data",
          "data": {
            "image/png": "[encoded data removed]",
            "text/plain": [
              "<Figure size 720x576 with 1 Axes>"
            ]
          },
          "metadata": {}
        }
      ]
    },
    {
      "cell_type": "markdown",
      "metadata": {
        "id": "thi7sqAKv_yW"
      },
      "source": [
        "# Pearson Correlation"
      ]
    },
    {
      "cell_type": "code",
      "metadata": {
        "colab": {
          "base_uri": "https://localhost:8080/",
          "height": 203
        },
        "id": "FGesV1_EvRmY",
        "outputId": "16fe0641-9fef-46f0-a4fc-85c6ecc84b5e"
      },
      "source": [
        "numeric_features = [t[0] for t in df.dtypes if t[1] != 'string']\n",
        "numeric_features_df = df.select(numeric_features)\n",
        "numeric_features_df.toPandas().head()"
      ],
      "execution_count": null,
      "outputs": [
        {
          "output_type": "execute_result",
          "data": {
            "text/html": [
              "<div>\n",
              "<style scoped>\n",
              "    .dataframe tbody tr th:only-of-type {\n",
              "        vertical-align: middle;\n",
              "    }\n",
              "\n",
              "    .dataframe tbody tr th {\n",
              "        vertical-align: top;\n",
              "    }\n",
              "\n",
              "    .dataframe thead th {\n",
              "        text-align: right;\n",
              "    }\n",
              "</style>\n",
              "<table border=\"1\" class=\"dataframe\">\n",
              "  <thead>\n",
              "    <tr style=\"text-align: right;\">\n",
              "      <th></th>\n",
              "      <th>Pregnancies</th>\n",
              "      <th>Glucose</th>\n",
              "      <th>BloodPressure</th>\n",
              "      <th>SkinThickness</th>\n",
              "      <th>Insulin</th>\n",
              "      <th>BMI</th>\n",
              "      <th>DiabetesPedigreeFunction</th>\n",
              "      <th>Age</th>\n",
              "    </tr>\n",
              "  </thead>\n",
              "  <tbody>\n",
              "    <tr>\n",
              "      <th>0</th>\n",
              "      <td>6</td>\n",
              "      <td>148</td>\n",
              "      <td>72</td>\n",
              "      <td>35</td>\n",
              "      <td>0</td>\n",
              "      <td>33.6</td>\n",
              "      <td>0.627</td>\n",
              "      <td>50</td>\n",
              "    </tr>\n",
              "    <tr>\n",
              "      <th>1</th>\n",
              "      <td>1</td>\n",
              "      <td>85</td>\n",
              "      <td>66</td>\n",
              "      <td>29</td>\n",
              "      <td>0</td>\n",
              "      <td>26.6</td>\n",
              "      <td>0.351</td>\n",
              "      <td>31</td>\n",
              "    </tr>\n",
              "    <tr>\n",
              "      <th>2</th>\n",
              "      <td>8</td>\n",
              "      <td>183</td>\n",
              "      <td>64</td>\n",
              "      <td>0</td>\n",
              "      <td>0</td>\n",
              "      <td>23.3</td>\n",
              "      <td>0.672</td>\n",
              "      <td>32</td>\n",
              "    </tr>\n",
              "    <tr>\n",
              "      <th>3</th>\n",
              "      <td>1</td>\n",
              "      <td>89</td>\n",
              "      <td>66</td>\n",
              "      <td>23</td>\n",
              "      <td>94</td>\n",
              "      <td>28.1</td>\n",
              "      <td>0.167</td>\n",
              "      <td>21</td>\n",
              "    </tr>\n",
              "    <tr>\n",
              "      <th>4</th>\n",
              "      <td>0</td>\n",
              "      <td>137</td>\n",
              "      <td>40</td>\n",
              "      <td>35</td>\n",
              "      <td>168</td>\n",
              "      <td>43.1</td>\n",
              "      <td>2.288</td>\n",
              "      <td>33</td>\n",
              "    </tr>\n",
              "  </tbody>\n",
              "</table>\n",
              "</div>"
            ],
            "text/plain": [
              "   Pregnancies  Glucose  BloodPressure  ...   BMI  DiabetesPedigreeFunction  Age\n",
              "0            6      148             72  ...  33.6                     0.627   50\n",
              "1            1       85             66  ...  26.6                     0.351   31\n",
              "2            8      183             64  ...  23.3                     0.672   32\n",
              "3            1       89             66  ...  28.1                     0.167   21\n",
              "4            0      137             40  ...  43.1                     2.288   33\n",
              "\n",
              "[5 rows x 8 columns]"
            ]
          },
          "metadata": {},
          "execution_count": 24
        }
      ]
    },
    {
      "cell_type": "code",
      "metadata": {
        "id": "olOeHtVXwR6Y"
      },
      "source": [
        "col_names = numeric_features_df.columns\n",
        "features = numeric_features_df.rdd.map(lambda row: row[0:])"
      ],
      "execution_count": null,
      "outputs": []
    },
    {
      "cell_type": "code",
      "metadata": {
        "id": "ox8jLo3jw7pr"
      },
      "source": [
        "from pyspark.mllib.stat import Statistics\n",
        "import pandas as pd"
      ],
      "execution_count": null,
      "outputs": []
    },
    {
      "cell_type": "code",
      "metadata": {
        "colab": {
          "base_uri": "https://localhost:8080/",
          "height": 295
        },
        "id": "S6fOlxNbxAoP",
        "outputId": "54ec9070-7434-4dfe-80a6-478fc3db8620"
      },
      "source": [
        "corr_mat = Statistics.corr(features, method=\"pearson\")\n",
        "corr_df = pd.DataFrame(corr_mat)\n",
        "corr_df.index = col_names\n",
        "corr_df.columns = col_names\n",
        "round(corr_df, 2)"
      ],
      "execution_count": null,
      "outputs": [
        {
          "output_type": "execute_result",
          "data": {
            "text/html": [
              "<div>\n",
              "<style scoped>\n",
              "    .dataframe tbody tr th:only-of-type {\n",
              "        vertical-align: middle;\n",
              "    }\n",
              "\n",
              "    .dataframe tbody tr th {\n",
              "        vertical-align: top;\n",
              "    }\n",
              "\n",
              "    .dataframe thead th {\n",
              "        text-align: right;\n",
              "    }\n",
              "</style>\n",
              "<table border=\"1\" class=\"dataframe\">\n",
              "  <thead>\n",
              "    <tr style=\"text-align: right;\">\n",
              "      <th></th>\n",
              "      <th>Pregnancies</th>\n",
              "      <th>Glucose</th>\n",
              "      <th>BloodPressure</th>\n",
              "      <th>SkinThickness</th>\n",
              "      <th>Insulin</th>\n",
              "      <th>BMI</th>\n",
              "      <th>DiabetesPedigreeFunction</th>\n",
              "      <th>Age</th>\n",
              "    </tr>\n",
              "  </thead>\n",
              "  <tbody>\n",
              "    <tr>\n",
              "      <th>Pregnancies</th>\n",
              "      <td>1.00</td>\n",
              "      <td>0.13</td>\n",
              "      <td>0.14</td>\n",
              "      <td>-0.08</td>\n",
              "      <td>-0.07</td>\n",
              "      <td>0.02</td>\n",
              "      <td>-0.03</td>\n",
              "      <td>0.54</td>\n",
              "    </tr>\n",
              "    <tr>\n",
              "      <th>Glucose</th>\n",
              "      <td>0.13</td>\n",
              "      <td>1.00</td>\n",
              "      <td>0.15</td>\n",
              "      <td>0.06</td>\n",
              "      <td>0.33</td>\n",
              "      <td>0.22</td>\n",
              "      <td>0.14</td>\n",
              "      <td>0.26</td>\n",
              "    </tr>\n",
              "    <tr>\n",
              "      <th>BloodPressure</th>\n",
              "      <td>0.14</td>\n",
              "      <td>0.15</td>\n",
              "      <td>1.00</td>\n",
              "      <td>0.21</td>\n",
              "      <td>0.09</td>\n",
              "      <td>0.28</td>\n",
              "      <td>0.04</td>\n",
              "      <td>0.24</td>\n",
              "    </tr>\n",
              "    <tr>\n",
              "      <th>SkinThickness</th>\n",
              "      <td>-0.08</td>\n",
              "      <td>0.06</td>\n",
              "      <td>0.21</td>\n",
              "      <td>1.00</td>\n",
              "      <td>0.44</td>\n",
              "      <td>0.39</td>\n",
              "      <td>0.18</td>\n",
              "      <td>-0.11</td>\n",
              "    </tr>\n",
              "    <tr>\n",
              "      <th>Insulin</th>\n",
              "      <td>-0.07</td>\n",
              "      <td>0.33</td>\n",
              "      <td>0.09</td>\n",
              "      <td>0.44</td>\n",
              "      <td>1.00</td>\n",
              "      <td>0.20</td>\n",
              "      <td>0.19</td>\n",
              "      <td>-0.04</td>\n",
              "    </tr>\n",
              "    <tr>\n",
              "      <th>BMI</th>\n",
              "      <td>0.02</td>\n",
              "      <td>0.22</td>\n",
              "      <td>0.28</td>\n",
              "      <td>0.39</td>\n",
              "      <td>0.20</td>\n",
              "      <td>1.00</td>\n",
              "      <td>0.14</td>\n",
              "      <td>0.04</td>\n",
              "    </tr>\n",
              "    <tr>\n",
              "      <th>DiabetesPedigreeFunction</th>\n",
              "      <td>-0.03</td>\n",
              "      <td>0.14</td>\n",
              "      <td>0.04</td>\n",
              "      <td>0.18</td>\n",
              "      <td>0.19</td>\n",
              "      <td>0.14</td>\n",
              "      <td>1.00</td>\n",
              "      <td>0.03</td>\n",
              "    </tr>\n",
              "    <tr>\n",
              "      <th>Age</th>\n",
              "      <td>0.54</td>\n",
              "      <td>0.26</td>\n",
              "      <td>0.24</td>\n",
              "      <td>-0.11</td>\n",
              "      <td>-0.04</td>\n",
              "      <td>0.04</td>\n",
              "      <td>0.03</td>\n",
              "      <td>1.00</td>\n",
              "    </tr>\n",
              "  </tbody>\n",
              "</table>\n",
              "</div>"
            ],
            "text/plain": [
              "                          Pregnancies  Glucose  ...  DiabetesPedigreeFunction   Age\n",
              "Pregnancies                      1.00     0.13  ...                     -0.03  0.54\n",
              "Glucose                          0.13     1.00  ...                      0.14  0.26\n",
              "BloodPressure                    0.14     0.15  ...                      0.04  0.24\n",
              "SkinThickness                   -0.08     0.06  ...                      0.18 -0.11\n",
              "Insulin                         -0.07     0.33  ...                      0.19 -0.04\n",
              "BMI                              0.02     0.22  ...                      0.14  0.04\n",
              "DiabetesPedigreeFunction        -0.03     0.14  ...                      1.00  0.03\n",
              "Age                              0.54     0.26  ...                      0.03  1.00\n",
              "\n",
              "[8 rows x 8 columns]"
            ]
          },
          "metadata": {},
          "execution_count": 27
        }
      ]
    },
    {
      "cell_type": "markdown",
      "metadata": {
        "id": "6zTTBLaKyIEQ"
      },
      "source": [
        "# Machine Learning Prep\n",
        "1. StringIndexer\n",
        "1. OneHotEncoderEstimator\n",
        "1. VectorAssembler\n",
        "1. LabelIndexer\n",
        "1. StandardScaler\n",
        "\n",
        "## Pipeline is the Future!@!@\n",
        "Going to do this twice:\n",
        "1. Manually\n",
        "1. Pipeline"
      ]
    },
    {
      "cell_type": "code",
      "metadata": {
        "id": "xIBmCuggxTAO"
      },
      "source": [
        "from pyspark.ml.feature import StringIndexer"
      ],
      "execution_count": null,
      "outputs": []
    },
    {
      "cell_type": "code",
      "metadata": {
        "id": "WvLo3TQQtxGS"
      },
      "source": [
        "stringIndexer = StringIndexer()\\\n",
        "                  .setInputCol(\"age_udf\")\\\n",
        "                  .setOutputCol('age_udfindex')"
      ],
      "execution_count": null,
      "outputs": []
    },
    {
      "cell_type": "code",
      "metadata": {
        "colab": {
          "base_uri": "https://localhost:8080/",
          "height": 203
        },
        "id": "2fnMFeIjuAA9",
        "outputId": "d894e92b-2fb1-401d-e448-31c9202d187f"
      },
      "source": [
        "age_udf_indexer_model = stringIndexer.fit(df)\n",
        "age_udf_index_df = age_udf_indexer_model.transform(df)\n",
        "age_udf_index_df.toPandas()[['age_udf','age_udfindex']].head()"
      ],
      "execution_count": null,
      "outputs": [
        {
          "output_type": "execute_result",
          "data": {
            "text/html": [
              "<div>\n",
              "<style scoped>\n",
              "    .dataframe tbody tr th:only-of-type {\n",
              "        vertical-align: middle;\n",
              "    }\n",
              "\n",
              "    .dataframe tbody tr th {\n",
              "        vertical-align: top;\n",
              "    }\n",
              "\n",
              "    .dataframe thead th {\n",
              "        text-align: right;\n",
              "    }\n",
              "</style>\n",
              "<table border=\"1\" class=\"dataframe\">\n",
              "  <thead>\n",
              "    <tr style=\"text-align: right;\">\n",
              "      <th></th>\n",
              "      <th>age_udf</th>\n",
              "      <th>age_udfindex</th>\n",
              "    </tr>\n",
              "  </thead>\n",
              "  <tbody>\n",
              "    <tr>\n",
              "      <th>0</th>\n",
              "      <td>Over 50</td>\n",
              "      <td>3.0</td>\n",
              "    </tr>\n",
              "    <tr>\n",
              "      <th>1</th>\n",
              "      <td>Between 25 and 35</td>\n",
              "      <td>1.0</td>\n",
              "    </tr>\n",
              "    <tr>\n",
              "      <th>2</th>\n",
              "      <td>Between 25 and 35</td>\n",
              "      <td>1.0</td>\n",
              "    </tr>\n",
              "    <tr>\n",
              "      <th>3</th>\n",
              "      <td>Under 25</td>\n",
              "      <td>0.0</td>\n",
              "    </tr>\n",
              "    <tr>\n",
              "      <th>4</th>\n",
              "      <td>Between 25 and 35</td>\n",
              "      <td>1.0</td>\n",
              "    </tr>\n",
              "  </tbody>\n",
              "</table>\n",
              "</div>"
            ],
            "text/plain": [
              "             age_udf  age_udfindex\n",
              "0            Over 50           3.0\n",
              "1  Between 25 and 35           1.0\n",
              "2  Between 25 and 35           1.0\n",
              "3           Under 25           0.0\n",
              "4  Between 25 and 35           1.0"
            ]
          },
          "metadata": {},
          "execution_count": 30
        }
      ]
    },
    {
      "cell_type": "code",
      "metadata": {
        "id": "PtMIq4v2uVjK"
      },
      "source": [
        "from pyspark.ml.feature import OneHotEncoder"
      ],
      "execution_count": null,
      "outputs": []
    },
    {
      "cell_type": "code",
      "metadata": {
        "id": "DKE9QXoCu3RZ"
      },
      "source": [
        "encoder = OneHotEncoder()\\\n",
        "            .setInputCols(['age_udfindex'])\\\n",
        "            .setOutputCols(['age_encoded'])"
      ],
      "execution_count": null,
      "outputs": []
    },
    {
      "cell_type": "code",
      "metadata": {
        "colab": {
          "base_uri": "https://localhost:8080/",
          "height": 203
        },
        "id": "d8FwnAWAvVGZ",
        "outputId": "d81fa028-90ac-40a1-af8a-589d2fa23a45"
      },
      "source": [
        "encoder_model = encoder.fit(age_udf_index_df)\n",
        "encoder_df = encoder_model.transform(age_udf_index_df)\n",
        "encoder_df.toPandas()[['age_udf','age_udfindex','age_encoded']].head()"
      ],
      "execution_count": null,
      "outputs": [
        {
          "output_type": "execute_result",
          "data": {
            "text/html": [
              "<div>\n",
              "<style scoped>\n",
              "    .dataframe tbody tr th:only-of-type {\n",
              "        vertical-align: middle;\n",
              "    }\n",
              "\n",
              "    .dataframe tbody tr th {\n",
              "        vertical-align: top;\n",
              "    }\n",
              "\n",
              "    .dataframe thead th {\n",
              "        text-align: right;\n",
              "    }\n",
              "</style>\n",
              "<table border=\"1\" class=\"dataframe\">\n",
              "  <thead>\n",
              "    <tr style=\"text-align: right;\">\n",
              "      <th></th>\n",
              "      <th>age_udf</th>\n",
              "      <th>age_udfindex</th>\n",
              "      <th>age_encoded</th>\n",
              "    </tr>\n",
              "  </thead>\n",
              "  <tbody>\n",
              "    <tr>\n",
              "      <th>0</th>\n",
              "      <td>Over 50</td>\n",
              "      <td>3.0</td>\n",
              "      <td>(0.0, 0.0, 0.0)</td>\n",
              "    </tr>\n",
              "    <tr>\n",
              "      <th>1</th>\n",
              "      <td>Between 25 and 35</td>\n",
              "      <td>1.0</td>\n",
              "      <td>(0.0, 1.0, 0.0)</td>\n",
              "    </tr>\n",
              "    <tr>\n",
              "      <th>2</th>\n",
              "      <td>Between 25 and 35</td>\n",
              "      <td>1.0</td>\n",
              "      <td>(0.0, 1.0, 0.0)</td>\n",
              "    </tr>\n",
              "    <tr>\n",
              "      <th>3</th>\n",
              "      <td>Under 25</td>\n",
              "      <td>0.0</td>\n",
              "      <td>(1.0, 0.0, 0.0)</td>\n",
              "    </tr>\n",
              "    <tr>\n",
              "      <th>4</th>\n",
              "      <td>Between 25 and 35</td>\n",
              "      <td>1.0</td>\n",
              "      <td>(0.0, 1.0, 0.0)</td>\n",
              "    </tr>\n",
              "  </tbody>\n",
              "</table>\n",
              "</div>"
            ],
            "text/plain": [
              "             age_udf  age_udfindex      age_encoded\n",
              "0            Over 50           3.0  (0.0, 0.0, 0.0)\n",
              "1  Between 25 and 35           1.0  (0.0, 1.0, 0.0)\n",
              "2  Between 25 and 35           1.0  (0.0, 1.0, 0.0)\n",
              "3           Under 25           0.0  (1.0, 0.0, 0.0)\n",
              "4  Between 25 and 35           1.0  (0.0, 1.0, 0.0)"
            ]
          },
          "metadata": {},
          "execution_count": 33
        }
      ]
    },
    {
      "cell_type": "code",
      "metadata": {
        "id": "sGkyGucevsL5"
      },
      "source": [
        "from pyspark.ml.linalg import Vectors\n",
        "from pyspark.ml.feature import VectorAssembler"
      ],
      "execution_count": null,
      "outputs": []
    },
    {
      "cell_type": "code",
      "metadata": {
        "colab": {
          "base_uri": "https://localhost:8080/"
        },
        "id": "kKNJzUfFwPMh",
        "outputId": "e2c92eff-0afa-43db-8eca-1c9ad94a2068"
      },
      "source": [
        "encoder_df.columns"
      ],
      "execution_count": null,
      "outputs": [
        {
          "output_type": "execute_result",
          "data": {
            "text/plain": [
              "['Pregnancies',\n",
              " 'Glucose',\n",
              " 'BloodPressure',\n",
              " 'SkinThickness',\n",
              " 'Insulin',\n",
              " 'BMI',\n",
              " 'DiabetesPedigreeFunction',\n",
              " 'Age',\n",
              " 'HasDiabetes',\n",
              " 'age_udf',\n",
              " 'age_udfindex',\n",
              " 'age_encoded']"
            ]
          },
          "metadata": {},
          "execution_count": 35
        }
      ]
    },
    {
      "cell_type": "code",
      "metadata": {
        "id": "r-g9enICwIKW"
      },
      "source": [
        "assembler = VectorAssembler()\\\n",
        "              .setInputCols(['age_encoded', 'Pregnancies',\n",
        "                              'Glucose',\n",
        "                              'BloodPressure',\n",
        "                              'SkinThickness',\n",
        "                              'Insulin',\n",
        "                              'BMI',\n",
        "                              'DiabetesPedigreeFunction',])\\\n",
        "              .setOutputCol('vec_features')"
      ],
      "execution_count": null,
      "outputs": []
    },
    {
      "cell_type": "code",
      "metadata": {
        "id": "qLfNxAudwi62"
      },
      "source": [
        "assembler_df = assembler.transform(encoder_df)"
      ],
      "execution_count": null,
      "outputs": []
    },
    {
      "cell_type": "code",
      "metadata": {
        "colab": {
          "base_uri": "https://localhost:8080/",
          "height": 442
        },
        "id": "JPwvLygrwuB5",
        "outputId": "6b8e22c7-cba6-4d2f-8c1b-99a278de7c10"
      },
      "source": [
        "assembler_df.toPandas().head()"
      ],
      "execution_count": null,
      "outputs": [
        {
          "output_type": "execute_result",
          "data": {
            "text/html": [
              "<div>\n",
              "<style scoped>\n",
              "    .dataframe tbody tr th:only-of-type {\n",
              "        vertical-align: middle;\n",
              "    }\n",
              "\n",
              "    .dataframe tbody tr th {\n",
              "        vertical-align: top;\n",
              "    }\n",
              "\n",
              "    .dataframe thead th {\n",
              "        text-align: right;\n",
              "    }\n",
              "</style>\n",
              "<table border=\"1\" class=\"dataframe\">\n",
              "  <thead>\n",
              "    <tr style=\"text-align: right;\">\n",
              "      <th></th>\n",
              "      <th>Pregnancies</th>\n",
              "      <th>Glucose</th>\n",
              "      <th>BloodPressure</th>\n",
              "      <th>SkinThickness</th>\n",
              "      <th>Insulin</th>\n",
              "      <th>BMI</th>\n",
              "      <th>DiabetesPedigreeFunction</th>\n",
              "      <th>Age</th>\n",
              "      <th>HasDiabetes</th>\n",
              "      <th>age_udf</th>\n",
              "      <th>age_udfindex</th>\n",
              "      <th>age_encoded</th>\n",
              "      <th>vec_features</th>\n",
              "    </tr>\n",
              "  </thead>\n",
              "  <tbody>\n",
              "    <tr>\n",
              "      <th>0</th>\n",
              "      <td>6</td>\n",
              "      <td>148</td>\n",
              "      <td>72</td>\n",
              "      <td>35</td>\n",
              "      <td>0</td>\n",
              "      <td>33.6</td>\n",
              "      <td>0.627</td>\n",
              "      <td>50</td>\n",
              "      <td>yes</td>\n",
              "      <td>Over 50</td>\n",
              "      <td>3.0</td>\n",
              "      <td>(0.0, 0.0, 0.0)</td>\n",
              "      <td>[0.0, 0.0, 0.0, 6.0, 148.0, 72.0, 35.0, 0.0, 3...</td>\n",
              "    </tr>\n",
              "    <tr>\n",
              "      <th>1</th>\n",
              "      <td>1</td>\n",
              "      <td>85</td>\n",
              "      <td>66</td>\n",
              "      <td>29</td>\n",
              "      <td>0</td>\n",
              "      <td>26.6</td>\n",
              "      <td>0.351</td>\n",
              "      <td>31</td>\n",
              "      <td>no</td>\n",
              "      <td>Between 25 and 35</td>\n",
              "      <td>1.0</td>\n",
              "      <td>(0.0, 1.0, 0.0)</td>\n",
              "      <td>[0.0, 1.0, 0.0, 1.0, 85.0, 66.0, 29.0, 0.0, 26...</td>\n",
              "    </tr>\n",
              "    <tr>\n",
              "      <th>2</th>\n",
              "      <td>8</td>\n",
              "      <td>183</td>\n",
              "      <td>64</td>\n",
              "      <td>0</td>\n",
              "      <td>0</td>\n",
              "      <td>23.3</td>\n",
              "      <td>0.672</td>\n",
              "      <td>32</td>\n",
              "      <td>yes</td>\n",
              "      <td>Between 25 and 35</td>\n",
              "      <td>1.0</td>\n",
              "      <td>(0.0, 1.0, 0.0)</td>\n",
              "      <td>[0.0, 1.0, 0.0, 8.0, 183.0, 64.0, 0.0, 0.0, 23...</td>\n",
              "    </tr>\n",
              "    <tr>\n",
              "      <th>3</th>\n",
              "      <td>1</td>\n",
              "      <td>89</td>\n",
              "      <td>66</td>\n",
              "      <td>23</td>\n",
              "      <td>94</td>\n",
              "      <td>28.1</td>\n",
              "      <td>0.167</td>\n",
              "      <td>21</td>\n",
              "      <td>no</td>\n",
              "      <td>Under 25</td>\n",
              "      <td>0.0</td>\n",
              "      <td>(1.0, 0.0, 0.0)</td>\n",
              "      <td>[1.0, 0.0, 0.0, 1.0, 89.0, 66.0, 23.0, 94.0, 2...</td>\n",
              "    </tr>\n",
              "    <tr>\n",
              "      <th>4</th>\n",
              "      <td>0</td>\n",
              "      <td>137</td>\n",
              "      <td>40</td>\n",
              "      <td>35</td>\n",
              "      <td>168</td>\n",
              "      <td>43.1</td>\n",
              "      <td>2.288</td>\n",
              "      <td>33</td>\n",
              "      <td>yes</td>\n",
              "      <td>Between 25 and 35</td>\n",
              "      <td>1.0</td>\n",
              "      <td>(0.0, 1.0, 0.0)</td>\n",
              "      <td>[0.0, 1.0, 0.0, 0.0, 137.0, 40.0, 35.0, 168.0,...</td>\n",
              "    </tr>\n",
              "  </tbody>\n",
              "</table>\n",
              "</div>"
            ],
            "text/plain": [
              "   Pregnancies  ...                                       vec_features\n",
              "0            6  ...  [0.0, 0.0, 0.0, 6.0, 148.0, 72.0, 35.0, 0.0, 3...\n",
              "1            1  ...  [0.0, 1.0, 0.0, 1.0, 85.0, 66.0, 29.0, 0.0, 26...\n",
              "2            8  ...  [0.0, 1.0, 0.0, 8.0, 183.0, 64.0, 0.0, 0.0, 23...\n",
              "3            1  ...  [1.0, 0.0, 0.0, 1.0, 89.0, 66.0, 23.0, 94.0, 2...\n",
              "4            0  ...  [0.0, 1.0, 0.0, 0.0, 137.0, 40.0, 35.0, 168.0,...\n",
              "\n",
              "[5 rows x 13 columns]"
            ]
          },
          "metadata": {},
          "execution_count": 38
        }
      ]
    },
    {
      "cell_type": "code",
      "metadata": {
        "id": "UVKn00-fxDcu"
      },
      "source": [
        "label_indexer = StringIndexer()\\\n",
        "                  .setInputCol('HasDiabetes')\\\n",
        "                  .setOutputCol('label')"
      ],
      "execution_count": null,
      "outputs": []
    },
    {
      "cell_type": "code",
      "metadata": {
        "id": "pLpOH9ZIxUxO"
      },
      "source": [
        "label_indexer_model = label_indexer.fit(assembler_df)\n",
        "label_indexer_df = label_indexer_model.transform(assembler_df)"
      ],
      "execution_count": null,
      "outputs": []
    },
    {
      "cell_type": "code",
      "metadata": {
        "colab": {
          "base_uri": "https://localhost:8080/",
          "height": 203
        },
        "id": "AXWDYmObxfz3",
        "outputId": "4d8d6eef-857f-41d8-a9a8-e8ae841aebb0"
      },
      "source": [
        "label_indexer_df.select('HasDiabetes','label').toPandas().head()"
      ],
      "execution_count": null,
      "outputs": [
        {
          "output_type": "execute_result",
          "data": {
            "text/html": [
              "<div>\n",
              "<style scoped>\n",
              "    .dataframe tbody tr th:only-of-type {\n",
              "        vertical-align: middle;\n",
              "    }\n",
              "\n",
              "    .dataframe tbody tr th {\n",
              "        vertical-align: top;\n",
              "    }\n",
              "\n",
              "    .dataframe thead th {\n",
              "        text-align: right;\n",
              "    }\n",
              "</style>\n",
              "<table border=\"1\" class=\"dataframe\">\n",
              "  <thead>\n",
              "    <tr style=\"text-align: right;\">\n",
              "      <th></th>\n",
              "      <th>HasDiabetes</th>\n",
              "      <th>label</th>\n",
              "    </tr>\n",
              "  </thead>\n",
              "  <tbody>\n",
              "    <tr>\n",
              "      <th>0</th>\n",
              "      <td>yes</td>\n",
              "      <td>1.0</td>\n",
              "    </tr>\n",
              "    <tr>\n",
              "      <th>1</th>\n",
              "      <td>no</td>\n",
              "      <td>0.0</td>\n",
              "    </tr>\n",
              "    <tr>\n",
              "      <th>2</th>\n",
              "      <td>yes</td>\n",
              "      <td>1.0</td>\n",
              "    </tr>\n",
              "    <tr>\n",
              "      <th>3</th>\n",
              "      <td>no</td>\n",
              "      <td>0.0</td>\n",
              "    </tr>\n",
              "    <tr>\n",
              "      <th>4</th>\n",
              "      <td>yes</td>\n",
              "      <td>1.0</td>\n",
              "    </tr>\n",
              "  </tbody>\n",
              "</table>\n",
              "</div>"
            ],
            "text/plain": [
              "  HasDiabetes  label\n",
              "0         yes    1.0\n",
              "1          no    0.0\n",
              "2         yes    1.0\n",
              "3          no    0.0\n",
              "4         yes    1.0"
            ]
          },
          "metadata": {},
          "execution_count": 41
        }
      ]
    },
    {
      "cell_type": "code",
      "metadata": {
        "id": "KGOnCX73xtPk"
      },
      "source": [
        "from pyspark.ml.feature import StandardScaler"
      ],
      "execution_count": null,
      "outputs": []
    },
    {
      "cell_type": "code",
      "metadata": {
        "id": "sQTpjK71x4iK"
      },
      "source": [
        "scaler = StandardScaler()\\\n",
        "            .setInputCol('vec_features')\\\n",
        "            .setOutputCol('features')"
      ],
      "execution_count": null,
      "outputs": []
    },
    {
      "cell_type": "code",
      "metadata": {
        "id": "J-QJ58H0x-mS"
      },
      "source": [
        "scaler_model = scaler.fit(label_indexer_df)\n",
        "scaler_df=scaler_model.transform(label_indexer_df)"
      ],
      "execution_count": null,
      "outputs": []
    },
    {
      "cell_type": "code",
      "metadata": {
        "colab": {
          "base_uri": "https://localhost:8080/",
          "height": 287
        },
        "id": "5FYIqJ7cyGyE",
        "outputId": "38bd2ed2-e2ef-4726-fc83-da901857979d"
      },
      "source": [
        "pd.set_option('display.max_colwidth',100)\n",
        "scaler_df.select('vec_features','features').toPandas().head()"
      ],
      "execution_count": null,
      "outputs": [
        {
          "output_type": "execute_result",
          "data": {
            "text/html": [
              "<div>\n",
              "<style scoped>\n",
              "    .dataframe tbody tr th:only-of-type {\n",
              "        vertical-align: middle;\n",
              "    }\n",
              "\n",
              "    .dataframe tbody tr th {\n",
              "        vertical-align: top;\n",
              "    }\n",
              "\n",
              "    .dataframe thead th {\n",
              "        text-align: right;\n",
              "    }\n",
              "</style>\n",
              "<table border=\"1\" class=\"dataframe\">\n",
              "  <thead>\n",
              "    <tr style=\"text-align: right;\">\n",
              "      <th></th>\n",
              "      <th>vec_features</th>\n",
              "      <th>features</th>\n",
              "    </tr>\n",
              "  </thead>\n",
              "  <tbody>\n",
              "    <tr>\n",
              "      <th>0</th>\n",
              "      <td>[0.0, 0.0, 0.0, 6.0, 148.0, 72.0, 35.0, 0.0, 33.6, 0.627]</td>\n",
              "      <td>[0.0, 0.0, 0.0, 1.7806383732194306, 4.628960915766174, 3.7198138711154307, 2.1940523222807116, 0...</td>\n",
              "    </tr>\n",
              "    <tr>\n",
              "      <th>1</th>\n",
              "      <td>[0.0, 1.0, 0.0, 1.0, 85.0, 66.0, 29.0, 0.0, 26.6, 0.351]</td>\n",
              "      <td>[0.0, 2.1791401333367157, 0.0, 0.29677306220323846, 2.658524850271114, 3.4098293818558116, 1.817...</td>\n",
              "    </tr>\n",
              "    <tr>\n",
              "      <th>2</th>\n",
              "      <td>[0.0, 1.0, 0.0, 8.0, 183.0, 64.0, 0.0, 0.0, 23.3, 0.672]</td>\n",
              "      <td>[0.0, 2.1791401333367157, 0.0, 2.3741844976259077, 5.723647618818986, 3.306501218769272, 0.0, 0....</td>\n",
              "    </tr>\n",
              "    <tr>\n",
              "      <th>3</th>\n",
              "      <td>[1.0, 0.0, 0.0, 1.0, 89.0, 66.0, 23.0, 94.0, 28.1, 0.167]</td>\n",
              "      <td>[2.098474993842542, 0.0, 0.0, 0.29677306220323846, 2.783631902048578, 3.4098293818558116, 1.4418...</td>\n",
              "    </tr>\n",
              "    <tr>\n",
              "      <th>4</th>\n",
              "      <td>[0.0, 1.0, 0.0, 0.0, 137.0, 40.0, 35.0, 168.0, 43.1, 2.288]</td>\n",
              "      <td>[0.0, 2.1791401333367157, 0.0, 0.0, 4.284916523378148, 2.0665632617307947, 2.1940523222807116, 1...</td>\n",
              "    </tr>\n",
              "  </tbody>\n",
              "</table>\n",
              "</div>"
            ],
            "text/plain": [
              "                                                  vec_features                                                                                             features\n",
              "0    [0.0, 0.0, 0.0, 6.0, 148.0, 72.0, 35.0, 0.0, 33.6, 0.627]  [0.0, 0.0, 0.0, 1.7806383732194306, 4.628960915766174, 3.7198138711154307, 2.1940523222807116, 0...\n",
              "1     [0.0, 1.0, 0.0, 1.0, 85.0, 66.0, 29.0, 0.0, 26.6, 0.351]  [0.0, 2.1791401333367157, 0.0, 0.29677306220323846, 2.658524850271114, 3.4098293818558116, 1.817...\n",
              "2     [0.0, 1.0, 0.0, 8.0, 183.0, 64.0, 0.0, 0.0, 23.3, 0.672]  [0.0, 2.1791401333367157, 0.0, 2.3741844976259077, 5.723647618818986, 3.306501218769272, 0.0, 0....\n",
              "3    [1.0, 0.0, 0.0, 1.0, 89.0, 66.0, 23.0, 94.0, 28.1, 0.167]  [2.098474993842542, 0.0, 0.0, 0.29677306220323846, 2.783631902048578, 3.4098293818558116, 1.4418...\n",
              "4  [0.0, 1.0, 0.0, 0.0, 137.0, 40.0, 35.0, 168.0, 43.1, 2.288]  [0.0, 2.1791401333367157, 0.0, 0.0, 4.284916523378148, 2.0665632617307947, 2.1940523222807116, 1..."
            ]
          },
          "metadata": {},
          "execution_count": 45
        }
      ]
    },
    {
      "cell_type": "code",
      "metadata": {
        "id": "Df3I4_r-yMqJ"
      },
      "source": [
        "from pyspark.ml import Pipeline"
      ],
      "execution_count": null,
      "outputs": []
    },
    {
      "cell_type": "code",
      "metadata": {
        "id": "kvPleoFnyv2c"
      },
      "source": [
        "pipeline_stages = Pipeline()\\\n",
        "                    .setStages([stringIndexer, \n",
        "                                encoder, \n",
        "                                assembler, \n",
        "                                label_indexer, \n",
        "                                scaler])"
      ],
      "execution_count": null,
      "outputs": []
    },
    {
      "cell_type": "code",
      "metadata": {
        "id": "DKU41K4EzE8L"
      },
      "source": [
        "pipeline_model = pipeline_stages.fit(df)"
      ],
      "execution_count": null,
      "outputs": []
    },
    {
      "cell_type": "code",
      "metadata": {
        "id": "ddpBQnQnzNKu"
      },
      "source": [
        "pipeline_df = pipeline_model.transform(df)"
      ],
      "execution_count": null,
      "outputs": []
    },
    {
      "cell_type": "code",
      "metadata": {
        "colab": {
          "base_uri": "https://localhost:8080/",
          "height": 694
        },
        "id": "thtweJgxzQw8",
        "outputId": "fef794d1-0de1-4204-c8d9-774229d6ecb0"
      },
      "source": [
        "pipeline_df.toPandas().head()"
      ],
      "execution_count": null,
      "outputs": [
        {
          "output_type": "execute_result",
          "data": {
            "text/html": [
              "<div>\n",
              "<style scoped>\n",
              "    .dataframe tbody tr th:only-of-type {\n",
              "        vertical-align: middle;\n",
              "    }\n",
              "\n",
              "    .dataframe tbody tr th {\n",
              "        vertical-align: top;\n",
              "    }\n",
              "\n",
              "    .dataframe thead th {\n",
              "        text-align: right;\n",
              "    }\n",
              "</style>\n",
              "<table border=\"1\" class=\"dataframe\">\n",
              "  <thead>\n",
              "    <tr style=\"text-align: right;\">\n",
              "      <th></th>\n",
              "      <th>Pregnancies</th>\n",
              "      <th>Glucose</th>\n",
              "      <th>BloodPressure</th>\n",
              "      <th>SkinThickness</th>\n",
              "      <th>Insulin</th>\n",
              "      <th>BMI</th>\n",
              "      <th>DiabetesPedigreeFunction</th>\n",
              "      <th>Age</th>\n",
              "      <th>HasDiabetes</th>\n",
              "      <th>age_udf</th>\n",
              "      <th>age_udfindex</th>\n",
              "      <th>age_encoded</th>\n",
              "      <th>vec_features</th>\n",
              "      <th>label</th>\n",
              "      <th>features</th>\n",
              "    </tr>\n",
              "  </thead>\n",
              "  <tbody>\n",
              "    <tr>\n",
              "      <th>0</th>\n",
              "      <td>6</td>\n",
              "      <td>148</td>\n",
              "      <td>72</td>\n",
              "      <td>35</td>\n",
              "      <td>0</td>\n",
              "      <td>33.6</td>\n",
              "      <td>0.627</td>\n",
              "      <td>50</td>\n",
              "      <td>yes</td>\n",
              "      <td>Over 50</td>\n",
              "      <td>3.0</td>\n",
              "      <td>(0.0, 0.0, 0.0)</td>\n",
              "      <td>[0.0, 0.0, 0.0, 6.0, 148.0, 72.0, 35.0, 0.0, 33.6, 0.627]</td>\n",
              "      <td>1.0</td>\n",
              "      <td>[0.0, 0.0, 0.0, 1.7806383732194306, 4.628960915766174, 3.7198138711154307, 2.1940523222807116, 0...</td>\n",
              "    </tr>\n",
              "    <tr>\n",
              "      <th>1</th>\n",
              "      <td>1</td>\n",
              "      <td>85</td>\n",
              "      <td>66</td>\n",
              "      <td>29</td>\n",
              "      <td>0</td>\n",
              "      <td>26.6</td>\n",
              "      <td>0.351</td>\n",
              "      <td>31</td>\n",
              "      <td>no</td>\n",
              "      <td>Between 25 and 35</td>\n",
              "      <td>1.0</td>\n",
              "      <td>(0.0, 1.0, 0.0)</td>\n",
              "      <td>[0.0, 1.0, 0.0, 1.0, 85.0, 66.0, 29.0, 0.0, 26.6, 0.351]</td>\n",
              "      <td>0.0</td>\n",
              "      <td>[0.0, 2.1791401333367157, 0.0, 0.29677306220323846, 2.658524850271114, 3.4098293818558116, 1.817...</td>\n",
              "    </tr>\n",
              "    <tr>\n",
              "      <th>2</th>\n",
              "      <td>8</td>\n",
              "      <td>183</td>\n",
              "      <td>64</td>\n",
              "      <td>0</td>\n",
              "      <td>0</td>\n",
              "      <td>23.3</td>\n",
              "      <td>0.672</td>\n",
              "      <td>32</td>\n",
              "      <td>yes</td>\n",
              "      <td>Between 25 and 35</td>\n",
              "      <td>1.0</td>\n",
              "      <td>(0.0, 1.0, 0.0)</td>\n",
              "      <td>[0.0, 1.0, 0.0, 8.0, 183.0, 64.0, 0.0, 0.0, 23.3, 0.672]</td>\n",
              "      <td>1.0</td>\n",
              "      <td>[0.0, 2.1791401333367157, 0.0, 2.3741844976259077, 5.723647618818986, 3.306501218769272, 0.0, 0....</td>\n",
              "    </tr>\n",
              "    <tr>\n",
              "      <th>3</th>\n",
              "      <td>1</td>\n",
              "      <td>89</td>\n",
              "      <td>66</td>\n",
              "      <td>23</td>\n",
              "      <td>94</td>\n",
              "      <td>28.1</td>\n",
              "      <td>0.167</td>\n",
              "      <td>21</td>\n",
              "      <td>no</td>\n",
              "      <td>Under 25</td>\n",
              "      <td>0.0</td>\n",
              "      <td>(1.0, 0.0, 0.0)</td>\n",
              "      <td>[1.0, 0.0, 0.0, 1.0, 89.0, 66.0, 23.0, 94.0, 28.1, 0.167]</td>\n",
              "      <td>0.0</td>\n",
              "      <td>[2.098474993842542, 0.0, 0.0, 0.29677306220323846, 2.783631902048578, 3.4098293818558116, 1.4418...</td>\n",
              "    </tr>\n",
              "    <tr>\n",
              "      <th>4</th>\n",
              "      <td>0</td>\n",
              "      <td>137</td>\n",
              "      <td>40</td>\n",
              "      <td>35</td>\n",
              "      <td>168</td>\n",
              "      <td>43.1</td>\n",
              "      <td>2.288</td>\n",
              "      <td>33</td>\n",
              "      <td>yes</td>\n",
              "      <td>Between 25 and 35</td>\n",
              "      <td>1.0</td>\n",
              "      <td>(0.0, 1.0, 0.0)</td>\n",
              "      <td>[0.0, 1.0, 0.0, 0.0, 137.0, 40.0, 35.0, 168.0, 43.1, 2.288]</td>\n",
              "      <td>1.0</td>\n",
              "      <td>[0.0, 2.1791401333367157, 0.0, 0.0, 4.284916523378148, 2.0665632617307947, 2.1940523222807116, 1...</td>\n",
              "    </tr>\n",
              "  </tbody>\n",
              "</table>\n",
              "</div>"
            ],
            "text/plain": [
              "   Pregnancies  ...                                                                                             features\n",
              "0            6  ...  [0.0, 0.0, 0.0, 1.7806383732194306, 4.628960915766174, 3.7198138711154307, 2.1940523222807116, 0...\n",
              "1            1  ...  [0.0, 2.1791401333367157, 0.0, 0.29677306220323846, 2.658524850271114, 3.4098293818558116, 1.817...\n",
              "2            8  ...  [0.0, 2.1791401333367157, 0.0, 2.3741844976259077, 5.723647618818986, 3.306501218769272, 0.0, 0....\n",
              "3            1  ...  [2.098474993842542, 0.0, 0.0, 0.29677306220323846, 2.783631902048578, 3.4098293818558116, 1.4418...\n",
              "4            0  ...  [0.0, 2.1791401333367157, 0.0, 0.0, 4.284916523378148, 2.0665632617307947, 2.1940523222807116, 1...\n",
              "\n",
              "[5 rows x 15 columns]"
            ]
          },
          "metadata": {},
          "execution_count": 50
        }
      ]
    },
    {
      "cell_type": "markdown",
      "metadata": {
        "id": "ytwKfN9ezw9G"
      },
      "source": [
        "# Pipline the Easy Way"
      ]
    },
    {
      "cell_type": "code",
      "metadata": {
        "id": "TYPzHJofzT72"
      },
      "source": [
        "categoricalColumns = ['age_udf']\n",
        "numericalColumns = ['Pregnancies',\n",
        "                              'Glucose',\n",
        "                              'BloodPressure',\n",
        "                              'SkinThickness',\n",
        "                              'Insulin',\n",
        "                              'BMI',\n",
        "                              'DiabetesPedigreeFunction']\n",
        "stages = []\n",
        "for categoricalCol in categoricalColumns:\n",
        "  stringIndexer = StringIndexer(inputCol=categoricalCol, outputCol=categoricalCol+'_index')\n",
        "  encoder = OneHotEncoder(inputCols=[stringIndexer.getOutputCol()], outputCols=[categoricalCol+\"_class_vec\"])\n",
        "  stages += [stringIndexer, encoder]\n",
        "\n",
        "label_string_indexer = StringIndexer(inputCol='HasDiabetes', outputCol='label')\n",
        "stages += [label_string_indexer]\n",
        "assemblerInputs = [c + '_class_vec' for c in categoricalColumns] + numericalColumns\n",
        "assembler = VectorAssembler(inputCols=assemblerInputs, outputCol='vec_features')\n",
        "stages += [assembler]\n",
        "scaler = StandardScaler(inputCol='vec_features',outputCol='features')\n",
        "stages += [scaler]\n"
      ],
      "execution_count": null,
      "outputs": []
    },
    {
      "cell_type": "code",
      "metadata": {
        "colab": {
          "base_uri": "https://localhost:8080/"
        },
        "id": "zL4VmoA11kF9",
        "outputId": "edb45073-697c-4627-c839-5a49fa67aee0"
      },
      "source": [
        "cols = df.columns\n",
        "pipeline = Pipeline(stages=stages)\n",
        "df_pipe = pipeline.fit(df).transform(df)\n",
        "selectedCols = ['label','features'] + cols \n",
        "df2 = df_pipe.select(selectedCols)\n",
        "df2.printSchema()"
      ],
      "execution_count": null,
      "outputs": [
        {
          "output_type": "stream",
          "name": "stdout",
          "text": [
            "root\n",
            " |-- label: double (nullable = false)\n",
            " |-- features: vector (nullable = true)\n",
            " |-- Pregnancies: integer (nullable = true)\n",
            " |-- Glucose: integer (nullable = true)\n",
            " |-- BloodPressure: integer (nullable = true)\n",
            " |-- SkinThickness: integer (nullable = true)\n",
            " |-- Insulin: integer (nullable = true)\n",
            " |-- BMI: double (nullable = true)\n",
            " |-- DiabetesPedigreeFunction: double (nullable = true)\n",
            " |-- Age: integer (nullable = true)\n",
            " |-- HasDiabetes: string (nullable = true)\n",
            " |-- age_udf: string (nullable = true)\n",
            "\n"
          ]
        }
      ]
    },
    {
      "cell_type": "markdown",
      "metadata": {
        "id": "vDkdnvI7rYlh"
      },
      "source": [
        "# Train/Test Split"
      ]
    },
    {
      "cell_type": "code",
      "metadata": {
        "id": "EjIM_6-i2JSx",
        "colab": {
          "base_uri": "https://localhost:8080/"
        },
        "outputId": "524fb5f3-82cb-4d96-9a28-6e3fbad9abe2"
      },
      "source": [
        "print(f\"There are {df2.count()} records in total. Split the data into training and test sets (20% held out for testing)\")"
      ],
      "execution_count": null,
      "outputs": [
        {
          "output_type": "stream",
          "name": "stdout",
          "text": [
            "There are 768 records in total. Split the data into training and test sets (20% held out for testing)\n"
          ]
        }
      ]
    },
    {
      "cell_type": "code",
      "metadata": {
        "colab": {
          "base_uri": "https://localhost:8080/"
        },
        "id": "TbaIG8Yjsf_F",
        "outputId": "7bdec6d4-dfaf-4f25-dcac-2cf6026cd78c"
      },
      "source": [
        "train, test = df2.randomSplit([0.8, 0.2], seed=42)\n",
        "print(f\"Training Data Size: {train.count()}\")\n",
        "print(f\"Test Data Size: {test.count()}\")"
      ],
      "execution_count": null,
      "outputs": [
        {
          "output_type": "stream",
          "name": "stdout",
          "text": [
            "Training Data Size: 645\n",
            "Test Data Size: 123\n"
          ]
        }
      ]
    },
    {
      "cell_type": "code",
      "metadata": {
        "colab": {
          "base_uri": "https://localhost:8080/"
        },
        "id": "vBL12lFsv8gD",
        "outputId": "da397639-753d-4108-d886-5b79bbd5afdc"
      },
      "source": [
        "train.groupby('HasDiabetes').count().show()"
      ],
      "execution_count": null,
      "outputs": [
        {
          "output_type": "stream",
          "name": "stdout",
          "text": [
            "+-----------+-----+\n",
            "|HasDiabetes|count|\n",
            "+-----------+-----+\n",
            "|         no|  426|\n",
            "|        yes|  219|\n",
            "+-----------+-----+\n",
            "\n"
          ]
        }
      ]
    },
    {
      "cell_type": "markdown",
      "metadata": {
        "id": "nCtDrL20wJVO"
      },
      "source": [
        "# Model Training\n",
        "- Logistic Regression\n",
        "- Since it's a classification problem {Predict: HasDiabetes}"
      ]
    },
    {
      "cell_type": "code",
      "metadata": {
        "id": "nKaVbKNkwGG8"
      },
      "source": [
        "from pyspark.ml.classification import LogisticRegression"
      ],
      "execution_count": null,
      "outputs": []
    },
    {
      "cell_type": "code",
      "metadata": {
        "colab": {
          "base_uri": "https://localhost:8080/",
          "height": 287
        },
        "id": "vJoF8HBtwYYq",
        "outputId": "050bf467-5a15-4e59-a7b1-48a479539d6f"
      },
      "source": [
        "lr = LogisticRegression(featuresCol='features',labelCol='label', maxIter=5)\n",
        "model = lr.fit(train)\n",
        "pred = model.transform(test)\n",
        "pred.select('label','features', 'rawPrediction','prediction','probability').toPandas().head()"
      ],
      "execution_count": null,
      "outputs": [
        {
          "output_type": "execute_result",
          "data": {
            "text/html": [
              "<div>\n",
              "<style scoped>\n",
              "    .dataframe tbody tr th:only-of-type {\n",
              "        vertical-align: middle;\n",
              "    }\n",
              "\n",
              "    .dataframe tbody tr th {\n",
              "        vertical-align: top;\n",
              "    }\n",
              "\n",
              "    .dataframe thead th {\n",
              "        text-align: right;\n",
              "    }\n",
              "</style>\n",
              "<table border=\"1\" class=\"dataframe\">\n",
              "  <thead>\n",
              "    <tr style=\"text-align: right;\">\n",
              "      <th></th>\n",
              "      <th>label</th>\n",
              "      <th>features</th>\n",
              "      <th>rawPrediction</th>\n",
              "      <th>prediction</th>\n",
              "      <th>probability</th>\n",
              "    </tr>\n",
              "  </thead>\n",
              "  <tbody>\n",
              "    <tr>\n",
              "      <th>0</th>\n",
              "      <td>0.0</td>\n",
              "      <td>(2.098474993842542, 0.0, 0.0, 0.5935461244064769, 2.314480457883087, 0.0, 0.0, 0.0, 0.0, 0.30785...</td>\n",
              "      <td>[1.5895743412837708, -1.5895743412837708]</td>\n",
              "      <td>0.0</td>\n",
              "      <td>[0.8305562074392718, 0.16944379256072817]</td>\n",
              "    </tr>\n",
              "    <tr>\n",
              "      <th>1</th>\n",
              "      <td>0.0</td>\n",
              "      <td>(2.098474993842542, 0.0, 0.0, 0.0, 3.1902298203253365, 3.8748061157452405, 1.4418058117844677, 0...</td>\n",
              "      <td>[2.949631266148634, -2.949631266148634]</td>\n",
              "      <td>0.0</td>\n",
              "      <td>[0.950246058156793, 0.04975394184320703]</td>\n",
              "    </tr>\n",
              "    <tr>\n",
              "      <th>2</th>\n",
              "      <td>0.0</td>\n",
              "      <td>(2.098474993842542, 0.0, 0.0, 0.0, 3.1589530573809705, 3.2031730556827323, 0.0, 0.0, 2.777721293...</td>\n",
              "      <td>[2.315629444649308, -2.315629444649308]</td>\n",
              "      <td>0.0</td>\n",
              "      <td>[0.9101632172916176, 0.08983678270838236]</td>\n",
              "    </tr>\n",
              "    <tr>\n",
              "      <th>3</th>\n",
              "      <td>0.0</td>\n",
              "      <td>(2.098474993842542, 0.0, 0.0, 0.0, 4.1285327086563175, 4.02979836037505, 0.0, 0.0, 4.10950547470...</td>\n",
              "      <td>[1.9303354598954814, -1.9303354598954814]</td>\n",
              "      <td>0.0</td>\n",
              "      <td>[0.8732865455641057, 0.12671345443589432]</td>\n",
              "    </tr>\n",
              "    <tr>\n",
              "      <th>4</th>\n",
              "      <td>0.0</td>\n",
              "      <td>(0.0, 2.1791401333367157, 0.0, 1.7806383732194306, 3.00256924265914, 0.0, 0.0, 0.0, 3.0060271527...</td>\n",
              "      <td>[-0.49591320139500716, 0.49591320139500716]</td>\n",
              "      <td>1.0</td>\n",
              "      <td>[0.37850156119851913, 0.6214984388014808]</td>\n",
              "    </tr>\n",
              "  </tbody>\n",
              "</table>\n",
              "</div>"
            ],
            "text/plain": [
              "   label  ...                                probability\n",
              "0    0.0  ...  [0.8305562074392718, 0.16944379256072817]\n",
              "1    0.0  ...   [0.950246058156793, 0.04975394184320703]\n",
              "2    0.0  ...  [0.9101632172916176, 0.08983678270838236]\n",
              "3    0.0  ...  [0.8732865455641057, 0.12671345443589432]\n",
              "4    0.0  ...  [0.37850156119851913, 0.6214984388014808]\n",
              "\n",
              "[5 rows x 5 columns]"
            ]
          },
          "metadata": {},
          "execution_count": 63
        }
      ]
    },
    {
      "cell_type": "markdown",
      "metadata": {
        "id": "OnM_NZ-mw5g2"
      },
      "source": [
        "# Model Evaluation"
      ]
    },
    {
      "cell_type": "code",
      "metadata": {
        "id": "MV0cB2z5wsVk"
      },
      "source": [
        "from pyspark.ml.evaluation import BinaryClassificationEvaluator"
      ],
      "execution_count": null,
      "outputs": []
    },
    {
      "cell_type": "code",
      "metadata": {
        "id": "eaYDgG59w_Rb"
      },
      "source": [
        "eval = BinaryClassificationEvaluator()"
      ],
      "execution_count": null,
      "outputs": []
    },
    {
      "cell_type": "code",
      "metadata": {
        "colab": {
          "base_uri": "https://localhost:8080/"
        },
        "id": "wcJbPIgyxBdv",
        "outputId": "0e302cca-1db2-436a-96bf-0630702b94fe"
      },
      "source": [
        "print(f\"Test Area Under ROC: {eval.evaluate(pred)}\")"
      ],
      "execution_count": null,
      "outputs": [
        {
          "output_type": "stream",
          "name": "stdout",
          "text": [
            "Test Area Under ROC: 0.832873690016547\n"
          ]
        }
      ]
    },
    {
      "cell_type": "markdown",
      "metadata": {
        "id": "oGaPQ7gfxLcc"
      },
      "source": [
        "# Model Accruary"
      ]
    },
    {
      "cell_type": "code",
      "metadata": {
        "id": "VIM1KXWcxGsw"
      },
      "source": [
        "acc = pred.filter(pred.label == pred.prediction).count() / float(pred.count())"
      ],
      "execution_count": null,
      "outputs": []
    },
    {
      "cell_type": "code",
      "metadata": {
        "colab": {
          "base_uri": "https://localhost:8080/"
        },
        "id": "G_k2b17XxXsD",
        "outputId": "55a7c738-246c-4ae1-b5c3-f5a3bf8f3ac4"
      },
      "source": [
        "print(f\"Accuracy: {acc}\")"
      ],
      "execution_count": null,
      "outputs": [
        {
          "output_type": "stream",
          "name": "stdout",
          "text": [
            "Accuracy: 0.7886178861788617\n"
          ]
        }
      ]
    },
    {
      "cell_type": "code",
      "metadata": {
        "colab": {
          "base_uri": "https://localhost:8080/"
        },
        "id": "2quKNz_bxbeB",
        "outputId": "8a419fcd-f68f-43ad-e436-d5ac692d8deb"
      },
      "source": [
        "print(lr.explainParams())"
      ],
      "execution_count": null,
      "outputs": [
        {
          "output_type": "stream",
          "name": "stdout",
          "text": [
            "aggregationDepth: suggested depth for treeAggregate (>= 2). (default: 2)\n",
            "elasticNetParam: the ElasticNet mixing parameter, in range [0, 1]. For alpha = 0, the penalty is an L2 penalty. For alpha = 1, it is an L1 penalty. (default: 0.0)\n",
            "family: The name of family which is a description of the label distribution to be used in the model. Supported options: auto, binomial, multinomial (default: auto)\n",
            "featuresCol: features column name. (default: features, current: features)\n",
            "fitIntercept: whether to fit an intercept term. (default: True)\n",
            "labelCol: label column name. (default: label, current: label)\n",
            "lowerBoundsOnCoefficients: The lower bounds on coefficients if fitting under bound constrained optimization. The bound matrix must be compatible with the shape (1, number of features) for binomial regression, or (number of classes, number of features) for multinomial regression. (undefined)\n",
            "lowerBoundsOnIntercepts: The lower bounds on intercepts if fitting under bound constrained optimization. The bounds vector size must beequal with 1 for binomial regression, or the number oflasses for multinomial regression. (undefined)\n",
            "maxBlockSizeInMB: maximum memory in MB for stacking input data into blocks. Data is stacked within partitions. If more than remaining data size in a partition then it is adjusted to the data size. Default 0.0 represents choosing optimal value, depends on specific algorithm. Must be >= 0. (default: 0.0)\n",
            "maxIter: max number of iterations (>= 0). (default: 100, current: 5)\n",
            "predictionCol: prediction column name. (default: prediction)\n",
            "probabilityCol: Column name for predicted class conditional probabilities. Note: Not all models output well-calibrated probability estimates! These probabilities should be treated as confidences, not precise probabilities. (default: probability)\n",
            "rawPredictionCol: raw prediction (a.k.a. confidence) column name. (default: rawPrediction)\n",
            "regParam: regularization parameter (>= 0). (default: 0.0)\n",
            "standardization: whether to standardize the training features before fitting the model. (default: True)\n",
            "threshold: Threshold in binary classification prediction, in range [0, 1]. If threshold and thresholds are both set, they must match.e.g. if threshold is p, then thresholds must be equal to [1-p, p]. (default: 0.5)\n",
            "thresholds: Thresholds in multi-class classification to adjust the probability of predicting each class. Array must have length equal to the number of classes, with values > 0, excepting that at most one value may be 0. The class with largest value p/t is predicted, where p is the original probability of that class and t is the class's threshold. (undefined)\n",
            "tol: the convergence tolerance for iterative algorithms (>= 0). (default: 1e-06)\n",
            "upperBoundsOnCoefficients: The upper bounds on coefficients if fitting under bound constrained optimization. The bound matrix must be compatible with the shape (1, number of features) for binomial regression, or (number of classes, number of features) for multinomial regression. (undefined)\n",
            "upperBoundsOnIntercepts: The upper bounds on intercepts if fitting under bound constrained optimization. The bound vector size must be equal with 1 for binomial regression, or the number of classes for multinomial regression. (undefined)\n",
            "weightCol: weight column name. If this is not set or empty, we treat all instance weights as 1.0. (undefined)\n"
          ]
        }
      ]
    },
    {
      "cell_type": "code",
      "metadata": {
        "id": "2vWFZrsAxjIa"
      },
      "source": [
        "from pyspark.ml.tuning import ParamGridBuilder, CrossValidator"
      ],
      "execution_count": null,
      "outputs": []
    },
    {
      "cell_type": "code",
      "metadata": {
        "colab": {
          "base_uri": "https://localhost:8080/",
          "height": 422
        },
        "id": "upwiHDHAxy1C",
        "outputId": "4e44ac67-3e23-44bf-b730-b3f11c5b2f89"
      },
      "source": [
        "paramGrid = (\n",
        "    ParamGridBuilder()\n",
        "    .addGrid(lr.regParam, [0.01, 0.05, 0.1, 0.5, 1.0, 1.5, 2.0]) # regularization parameter\n",
        "    .addGrid(lr.elasticNetParam, [0.0, 0.5, 1.0]) # Elastic Net Param (Ridge=0, Lasso=1)\n",
        "    .addGrid(lr.maxIter, [1,5,10, 20]) # Max Iterations?\n",
        "    .build()\n",
        ")\n",
        "cv = CrossValidator(estimator=lr, estimatorParamMaps=paramGrid, evaluator=eval, numFolds=5)\n",
        "\n",
        "cv_model = cv.fit(train)\n"
      ],
      "execution_count": null,
      "outputs": [
        {
          "output_type": "error",
          "ename": "KeyboardInterrupt",
          "evalue": "ignored",
          "traceback": [
            "\u001b[0;31m---------------------------------------------------------------------------\u001b[0m",
            "\u001b[0;31mIndexError\u001b[0m                                Traceback (most recent call last)",
            "\u001b[0;32m/usr/lib/python3.7/multiprocessing/pool.py\u001b[0m in \u001b[0;36mnext\u001b[0;34m(self, timeout)\u001b[0m\n\u001b[1;32m    732\u001b[0m             \u001b[0;32mtry\u001b[0m\u001b[0;34m:\u001b[0m\u001b[0;34m\u001b[0m\u001b[0;34m\u001b[0m\u001b[0m\n\u001b[0;32m--> 733\u001b[0;31m                 \u001b[0mitem\u001b[0m \u001b[0;34m=\u001b[0m \u001b[0mself\u001b[0m\u001b[0;34m.\u001b[0m\u001b[0m_items\u001b[0m\u001b[0;34m.\u001b[0m\u001b[0mpopleft\u001b[0m\u001b[0;34m(\u001b[0m\u001b[0;34m)\u001b[0m\u001b[0;34m\u001b[0m\u001b[0;34m\u001b[0m\u001b[0m\n\u001b[0m\u001b[1;32m    734\u001b[0m             \u001b[0;32mexcept\u001b[0m \u001b[0mIndexError\u001b[0m\u001b[0;34m:\u001b[0m\u001b[0;34m\u001b[0m\u001b[0;34m\u001b[0m\u001b[0m\n",
            "\u001b[0;31mIndexError\u001b[0m: pop from an empty deque",
            "\nDuring handling of the above exception, another exception occurred:\n",
            "\u001b[0;31mKeyboardInterrupt\u001b[0m                         Traceback (most recent call last)",
            "\u001b[0;32m<ipython-input-90-d5a63a4f1fcf>\u001b[0m in \u001b[0;36m<module>\u001b[0;34m()\u001b[0m\n\u001b[1;32m      8\u001b[0m \u001b[0mcv\u001b[0m \u001b[0;34m=\u001b[0m \u001b[0mCrossValidator\u001b[0m\u001b[0;34m(\u001b[0m\u001b[0mestimator\u001b[0m\u001b[0;34m=\u001b[0m\u001b[0mlr\u001b[0m\u001b[0;34m,\u001b[0m \u001b[0mestimatorParamMaps\u001b[0m\u001b[0;34m=\u001b[0m\u001b[0mparamGrid\u001b[0m\u001b[0;34m,\u001b[0m \u001b[0mevaluator\u001b[0m\u001b[0;34m=\u001b[0m\u001b[0meval\u001b[0m\u001b[0;34m,\u001b[0m \u001b[0mnumFolds\u001b[0m\u001b[0;34m=\u001b[0m\u001b[0;36m5\u001b[0m\u001b[0;34m)\u001b[0m\u001b[0;34m\u001b[0m\u001b[0;34m\u001b[0m\u001b[0m\n\u001b[1;32m      9\u001b[0m \u001b[0;34m\u001b[0m\u001b[0m\n\u001b[0;32m---> 10\u001b[0;31m \u001b[0mcv_model\u001b[0m \u001b[0;34m=\u001b[0m \u001b[0mcv\u001b[0m\u001b[0;34m.\u001b[0m\u001b[0mfit\u001b[0m\u001b[0;34m(\u001b[0m\u001b[0mtrain\u001b[0m\u001b[0;34m)\u001b[0m\u001b[0;34m\u001b[0m\u001b[0;34m\u001b[0m\u001b[0m\n\u001b[0m",
            "\u001b[0;32m/content/spark-3.1.2-bin-hadoop3.2/python/pyspark/ml/base.py\u001b[0m in \u001b[0;36mfit\u001b[0;34m(self, dataset, params)\u001b[0m\n\u001b[1;32m    159\u001b[0m                 \u001b[0;32mreturn\u001b[0m \u001b[0mself\u001b[0m\u001b[0;34m.\u001b[0m\u001b[0mcopy\u001b[0m\u001b[0;34m(\u001b[0m\u001b[0mparams\u001b[0m\u001b[0;34m)\u001b[0m\u001b[0;34m.\u001b[0m\u001b[0m_fit\u001b[0m\u001b[0;34m(\u001b[0m\u001b[0mdataset\u001b[0m\u001b[0;34m)\u001b[0m\u001b[0;34m\u001b[0m\u001b[0;34m\u001b[0m\u001b[0m\n\u001b[1;32m    160\u001b[0m             \u001b[0;32melse\u001b[0m\u001b[0;34m:\u001b[0m\u001b[0;34m\u001b[0m\u001b[0;34m\u001b[0m\u001b[0m\n\u001b[0;32m--> 161\u001b[0;31m                 \u001b[0;32mreturn\u001b[0m \u001b[0mself\u001b[0m\u001b[0;34m.\u001b[0m\u001b[0m_fit\u001b[0m\u001b[0;34m(\u001b[0m\u001b[0mdataset\u001b[0m\u001b[0;34m)\u001b[0m\u001b[0;34m\u001b[0m\u001b[0;34m\u001b[0m\u001b[0m\n\u001b[0m\u001b[1;32m    162\u001b[0m         \u001b[0;32melse\u001b[0m\u001b[0;34m:\u001b[0m\u001b[0;34m\u001b[0m\u001b[0;34m\u001b[0m\u001b[0m\n\u001b[1;32m    163\u001b[0m             raise ValueError(\"Params must be either a param map or a list/tuple of param maps, \"\n",
            "\u001b[0;32m/content/spark-3.1.2-bin-hadoop3.2/python/pyspark/ml/tuning.py\u001b[0m in \u001b[0;36m_fit\u001b[0;34m(self, dataset)\u001b[0m\n\u001b[1;32m    685\u001b[0m \u001b[0;34m\u001b[0m\u001b[0m\n\u001b[1;32m    686\u001b[0m             \u001b[0mtasks\u001b[0m \u001b[0;34m=\u001b[0m \u001b[0m_parallelFitTasks\u001b[0m\u001b[0;34m(\u001b[0m\u001b[0mest\u001b[0m\u001b[0;34m,\u001b[0m \u001b[0mtrain\u001b[0m\u001b[0;34m,\u001b[0m \u001b[0meva\u001b[0m\u001b[0;34m,\u001b[0m \u001b[0mvalidation\u001b[0m\u001b[0;34m,\u001b[0m \u001b[0mepm\u001b[0m\u001b[0;34m,\u001b[0m \u001b[0mcollectSubModelsParam\u001b[0m\u001b[0;34m)\u001b[0m\u001b[0;34m\u001b[0m\u001b[0;34m\u001b[0m\u001b[0m\n\u001b[0;32m--> 687\u001b[0;31m             \u001b[0;32mfor\u001b[0m \u001b[0mj\u001b[0m\u001b[0;34m,\u001b[0m \u001b[0mmetric\u001b[0m\u001b[0;34m,\u001b[0m \u001b[0msubModel\u001b[0m \u001b[0;32min\u001b[0m \u001b[0mpool\u001b[0m\u001b[0;34m.\u001b[0m\u001b[0mimap_unordered\u001b[0m\u001b[0;34m(\u001b[0m\u001b[0;32mlambda\u001b[0m \u001b[0mf\u001b[0m\u001b[0;34m:\u001b[0m \u001b[0mf\u001b[0m\u001b[0;34m(\u001b[0m\u001b[0;34m)\u001b[0m\u001b[0;34m,\u001b[0m \u001b[0mtasks\u001b[0m\u001b[0;34m)\u001b[0m\u001b[0;34m:\u001b[0m\u001b[0;34m\u001b[0m\u001b[0;34m\u001b[0m\u001b[0m\n\u001b[0m\u001b[1;32m    688\u001b[0m                 \u001b[0mmetrics\u001b[0m\u001b[0;34m[\u001b[0m\u001b[0mj\u001b[0m\u001b[0;34m]\u001b[0m \u001b[0;34m+=\u001b[0m \u001b[0;34m(\u001b[0m\u001b[0mmetric\u001b[0m \u001b[0;34m/\u001b[0m \u001b[0mnFolds\u001b[0m\u001b[0;34m)\u001b[0m\u001b[0;34m\u001b[0m\u001b[0;34m\u001b[0m\u001b[0m\n\u001b[1;32m    689\u001b[0m                 \u001b[0;32mif\u001b[0m \u001b[0mcollectSubModelsParam\u001b[0m\u001b[0;34m:\u001b[0m\u001b[0;34m\u001b[0m\u001b[0;34m\u001b[0m\u001b[0m\n",
            "\u001b[0;32m/usr/lib/python3.7/multiprocessing/pool.py\u001b[0m in \u001b[0;36mnext\u001b[0;34m(self, timeout)\u001b[0m\n\u001b[1;32m    735\u001b[0m                 \u001b[0;32mif\u001b[0m \u001b[0mself\u001b[0m\u001b[0;34m.\u001b[0m\u001b[0m_index\u001b[0m \u001b[0;34m==\u001b[0m \u001b[0mself\u001b[0m\u001b[0;34m.\u001b[0m\u001b[0m_length\u001b[0m\u001b[0;34m:\u001b[0m\u001b[0;34m\u001b[0m\u001b[0;34m\u001b[0m\u001b[0m\n\u001b[1;32m    736\u001b[0m                     \u001b[0;32mraise\u001b[0m \u001b[0mStopIteration\u001b[0m \u001b[0;32mfrom\u001b[0m \u001b[0;32mNone\u001b[0m\u001b[0;34m\u001b[0m\u001b[0;34m\u001b[0m\u001b[0m\n\u001b[0;32m--> 737\u001b[0;31m                 \u001b[0mself\u001b[0m\u001b[0;34m.\u001b[0m\u001b[0m_cond\u001b[0m\u001b[0;34m.\u001b[0m\u001b[0mwait\u001b[0m\u001b[0;34m(\u001b[0m\u001b[0mtimeout\u001b[0m\u001b[0;34m)\u001b[0m\u001b[0;34m\u001b[0m\u001b[0;34m\u001b[0m\u001b[0m\n\u001b[0m\u001b[1;32m    738\u001b[0m                 \u001b[0;32mtry\u001b[0m\u001b[0;34m:\u001b[0m\u001b[0;34m\u001b[0m\u001b[0;34m\u001b[0m\u001b[0m\n\u001b[1;32m    739\u001b[0m                     \u001b[0mitem\u001b[0m \u001b[0;34m=\u001b[0m \u001b[0mself\u001b[0m\u001b[0;34m.\u001b[0m\u001b[0m_items\u001b[0m\u001b[0;34m.\u001b[0m\u001b[0mpopleft\u001b[0m\u001b[0;34m(\u001b[0m\u001b[0;34m)\u001b[0m\u001b[0;34m\u001b[0m\u001b[0;34m\u001b[0m\u001b[0m\n",
            "\u001b[0;32m/usr/lib/python3.7/threading.py\u001b[0m in \u001b[0;36mwait\u001b[0;34m(self, timeout)\u001b[0m\n\u001b[1;32m    294\u001b[0m         \u001b[0;32mtry\u001b[0m\u001b[0;34m:\u001b[0m    \u001b[0;31m# restore state no matter what (e.g., KeyboardInterrupt)\u001b[0m\u001b[0;34m\u001b[0m\u001b[0;34m\u001b[0m\u001b[0m\n\u001b[1;32m    295\u001b[0m             \u001b[0;32mif\u001b[0m \u001b[0mtimeout\u001b[0m \u001b[0;32mis\u001b[0m \u001b[0;32mNone\u001b[0m\u001b[0;34m:\u001b[0m\u001b[0;34m\u001b[0m\u001b[0;34m\u001b[0m\u001b[0m\n\u001b[0;32m--> 296\u001b[0;31m                 \u001b[0mwaiter\u001b[0m\u001b[0;34m.\u001b[0m\u001b[0macquire\u001b[0m\u001b[0;34m(\u001b[0m\u001b[0;34m)\u001b[0m\u001b[0;34m\u001b[0m\u001b[0;34m\u001b[0m\u001b[0m\n\u001b[0m\u001b[1;32m    297\u001b[0m                 \u001b[0mgotit\u001b[0m \u001b[0;34m=\u001b[0m \u001b[0;32mTrue\u001b[0m\u001b[0;34m\u001b[0m\u001b[0;34m\u001b[0m\u001b[0m\n\u001b[1;32m    298\u001b[0m             \u001b[0;32melse\u001b[0m\u001b[0;34m:\u001b[0m\u001b[0;34m\u001b[0m\u001b[0;34m\u001b[0m\u001b[0m\n",
            "\u001b[0;31mKeyboardInterrupt\u001b[0m: "
          ]
        }
      ]
    },
    {
      "cell_type": "code",
      "metadata": {
        "colab": {
          "base_uri": "https://localhost:8080/"
        },
        "id": "Fht4BMqxycRe",
        "outputId": "71e90dad-f6a9-42c5-e114-7ea286004bd8"
      },
      "source": [
        "# Best Model Performance\n",
        "pred = cv_model.transform(test)\n",
        "print(f\"Test Area Under ROC: {eval.evaluate(pred)}\")"
      ],
      "execution_count": null,
      "outputs": [
        {
          "output_type": "stream",
          "name": "stdout",
          "text": [
            "Test Area Under ROC: 0.8314947600661884\n"
          ]
        }
      ]
    },
    {
      "cell_type": "code",
      "metadata": {
        "colab": {
          "base_uri": "https://localhost:8080/"
        },
        "id": "O3a7qffk0yOU",
        "outputId": "3f0671ef-c225-4dba-858e-375ebcfcb805"
      },
      "source": [
        "acc = pred.filter(pred.label == pred.prediction).count() / float(pred.count())\n",
        "print(f\"Accuracy: {acc}\")"
      ],
      "execution_count": null,
      "outputs": [
        {
          "output_type": "stream",
          "name": "stdout",
          "text": [
            "Accuracy: 0.7317073170731707\n"
          ]
        }
      ]
    },
    {
      "cell_type": "markdown",
      "metadata": {
        "id": "lK3rnq1-yvqV"
      },
      "source": [
        "# Best Model Feature Weights"
      ]
    },
    {
      "cell_type": "code",
      "metadata": {
        "colab": {
          "base_uri": "https://localhost:8080/"
        },
        "id": "wd8wtxl5zo5m",
        "outputId": "0fde7deb-da96-423b-c188-8065ca57ffb6"
      },
      "source": [
        "df2.columns"
      ],
      "execution_count": null,
      "outputs": [
        {
          "output_type": "execute_result",
          "data": {
            "text/plain": [
              "['label',\n",
              " 'features',\n",
              " 'Pregnancies',\n",
              " 'Glucose',\n",
              " 'BloodPressure',\n",
              " 'SkinThickness',\n",
              " 'Insulin',\n",
              " 'BMI',\n",
              " 'DiabetesPedigreeFunction',\n",
              " 'Age',\n",
              " 'HasDiabetes',\n",
              " 'age_udf']"
            ]
          },
          "metadata": {},
          "execution_count": 78
        }
      ]
    },
    {
      "cell_type": "code",
      "metadata": {
        "colab": {
          "base_uri": "https://localhost:8080/",
          "height": 357
        },
        "id": "MP-fZi7Gyyxn",
        "outputId": "9c944274-043e-4155-a795-75c6cc1dd356"
      },
      "source": [
        "weights = cv_model.bestModel.coefficients\n",
        "weights = [(float(w), ) for w in weights]\n",
        "weights_df = spark.createDataFrame(weights, ['Feature Weight'])\n",
        "weights_df.toPandas().head(10) "
      ],
      "execution_count": null,
      "outputs": [
        {
          "output_type": "execute_result",
          "data": {
            "text/html": [
              "<div>\n",
              "<style scoped>\n",
              "    .dataframe tbody tr th:only-of-type {\n",
              "        vertical-align: middle;\n",
              "    }\n",
              "\n",
              "    .dataframe tbody tr th {\n",
              "        vertical-align: top;\n",
              "    }\n",
              "\n",
              "    .dataframe thead th {\n",
              "        text-align: right;\n",
              "    }\n",
              "</style>\n",
              "<table border=\"1\" class=\"dataframe\">\n",
              "  <thead>\n",
              "    <tr style=\"text-align: right;\">\n",
              "      <th></th>\n",
              "      <th>Feature Weight</th>\n",
              "    </tr>\n",
              "  </thead>\n",
              "  <tbody>\n",
              "    <tr>\n",
              "      <th>0</th>\n",
              "      <td>-0.256450</td>\n",
              "    </tr>\n",
              "    <tr>\n",
              "      <th>1</th>\n",
              "      <td>-0.011061</td>\n",
              "    </tr>\n",
              "    <tr>\n",
              "      <th>2</th>\n",
              "      <td>0.104444</td>\n",
              "    </tr>\n",
              "    <tr>\n",
              "      <th>3</th>\n",
              "      <td>0.248259</td>\n",
              "    </tr>\n",
              "    <tr>\n",
              "      <th>4</th>\n",
              "      <td>0.818539</td>\n",
              "    </tr>\n",
              "    <tr>\n",
              "      <th>5</th>\n",
              "      <td>-0.032937</td>\n",
              "    </tr>\n",
              "    <tr>\n",
              "      <th>6</th>\n",
              "      <td>-0.037487</td>\n",
              "    </tr>\n",
              "    <tr>\n",
              "      <th>7</th>\n",
              "      <td>0.008873</td>\n",
              "    </tr>\n",
              "    <tr>\n",
              "      <th>8</th>\n",
              "      <td>0.432523</td>\n",
              "    </tr>\n",
              "    <tr>\n",
              "      <th>9</th>\n",
              "      <td>0.320956</td>\n",
              "    </tr>\n",
              "  </tbody>\n",
              "</table>\n",
              "</div>"
            ],
            "text/plain": [
              "   Feature Weight\n",
              "0       -0.256450\n",
              "1       -0.011061\n",
              "2        0.104444\n",
              "3        0.248259\n",
              "4        0.818539\n",
              "5       -0.032937\n",
              "6       -0.037487\n",
              "7        0.008873\n",
              "8        0.432523\n",
              "9        0.320956"
            ]
          },
          "metadata": {},
          "execution_count": 93
        }
      ]
    },
    {
      "cell_type": "markdown",
      "metadata": {
        "id": "qjMQiELvyzMX"
      },
      "source": [
        "# Best Model Parameters"
      ]
    },
    {
      "cell_type": "code",
      "metadata": {
        "id": "CV8MI8bxy1WR"
      },
      "source": [
        "best_model = cv_model.bestModel"
      ],
      "execution_count": null,
      "outputs": []
    },
    {
      "cell_type": "code",
      "metadata": {
        "id": "P1v8tt6gz9lD"
      },
      "source": [
        "best = f\"\"\"\n",
        "Best Model Parameters\n",
        "=============================\n",
        "regParam:\\t{best_model._java_obj.getRegParam()}\n",
        "MaxIter:\\t{best_model._java_obj.getMaxIter()}\n",
        "elasticNet:\\t{best_model._java_obj.getElasticNetParam()}\n",
        "\"\"\""
      ],
      "execution_count": null,
      "outputs": []
    },
    {
      "cell_type": "code",
      "metadata": {
        "colab": {
          "base_uri": "https://localhost:8080/"
        },
        "id": "bH0TIfSr0Y6y",
        "outputId": "2e57a0bf-770f-4eea-a9e5-eb509215cb09"
      },
      "source": [
        "print(best)"
      ],
      "execution_count": null,
      "outputs": [
        {
          "output_type": "stream",
          "name": "stdout",
          "text": [
            "\n",
            "Best Model Parameters\n",
            "=============================\n",
            "regParam:\t0.05\n",
            "MaxIter:\t20\n",
            "elasticNet:\t0.0\n",
            "\n"
          ]
        }
      ]
    },
    {
      "cell_type": "code",
      "metadata": {
        "id": "KMW6NC-E0Z83"
      },
      "source": [
        ""
      ],
      "execution_count": null,
      "outputs": []
    }
  ]
}